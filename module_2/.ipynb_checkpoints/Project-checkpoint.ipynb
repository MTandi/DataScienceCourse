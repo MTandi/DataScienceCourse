{
 "cells": [
  {
   "cell_type": "code",
   "execution_count": 45,
   "metadata": {},
   "outputs": [],
   "source": [
    "import pandas as pd\n",
    "import numpy as np\n",
    "import matplotlib.pyplot as plt\n",
    "import seaborn as sns\n",
    "from itertools import combinations\n",
    "from scipy.stats import ttest_ind\n",
    "\n",
    "pd.set_option('display.max_rows', 30) # показывать больше колонок\n",
    "pd.set_option('display.max_columns', 30) # показывать больше колонок\n",
    "\n",
    "data = pd.read_csv('stud_math.csv')\n"
   ]
  },
  {
   "cell_type": "code",
   "execution_count": 2,
   "metadata": {},
   "outputs": [],
   "source": [
    "# метод для обреза по iqr с двух сторон\n",
    "def remove_outliers(df, columns):\n",
    "    for col in columns:\n",
    "        if ((df[col].dtype=='float64') | (df[col].dtype=='int64')):\n",
    "            q1 = df[col].quantile(0.25)\n",
    "            q3 = df[col].quantile(0.75)\n",
    "            iqr = q3 - q1\n",
    "            df = df.loc[df[col].between(q1 - 1.5 * iqr, q3 + 1.5 * iqr)]\n",
    "    return df\n",
    "\n",
    "# метод для обреза по iqr сверху\n",
    "def remove_outliers_top(df, columns):\n",
    "    for col in columns:\n",
    "        if ((df[col].dtype=='float64') | (df[col].dtype=='int64')):\n",
    "            q1 = df[col].quantile(0.25)\n",
    "            q3 = df[col].quantile(0.75)\n",
    "            iqr = q3 - q1\n",
    "            df = df.loc[df[col] < (q3 + 1.5 * iqr)]\n",
    "    return df\n",
    "\n",
    "# метод для теста Стьюдента\n",
    "def get_stat_dif(df, column):\n",
    "    cols = df.loc[:, column].value_counts().index\n",
    "    combinations_all = list(combinations(cols, 2))\n",
    "    for comb in combinations_all:\n",
    "        if ttest_ind(df.loc[df.loc[:, column] == comb[0], 'score'], \n",
    "                        df.loc[df.loc[:, column] == comb[1], 'score']).pvalue \\\n",
    "            <= 0.05/len(combinations_all): # Учли поправку Бонферони\n",
    "            print('Найдены статистически значимые различия для колонки', column)\n",
    "            break\n",
    "\n",
    "# метод для рисования боксовых графиков\n",
    "def get_boxplot(df, column):\n",
    "    fig, ax = plt.subplots(figsize = (14, 4))\n",
    "    sns.boxplot(x=column, y='score', \n",
    "                data=df.loc[df.loc[:, column].isin(df.loc[:, column].value_counts().index)],\n",
    "               ax=ax)\n",
    "    plt.xticks()\n",
    "    ax.set_title('Boxplot for ' + column)\n",
    "    plt.show()"
   ]
  },
  {
   "cell_type": "markdown",
   "metadata": {},
   "source": [
    "# Первичная обработка"
   ]
  },
  {
   "cell_type": "code",
   "execution_count": 3,
   "metadata": {
    "scrolled": true
   },
   "outputs": [
    {
     "data": {
      "text/html": [
       "<div>\n",
       "<style scoped>\n",
       "    .dataframe tbody tr th:only-of-type {\n",
       "        vertical-align: middle;\n",
       "    }\n",
       "\n",
       "    .dataframe tbody tr th {\n",
       "        vertical-align: top;\n",
       "    }\n",
       "\n",
       "    .dataframe thead th {\n",
       "        text-align: right;\n",
       "    }\n",
       "</style>\n",
       "<table border=\"1\" class=\"dataframe\">\n",
       "  <thead>\n",
       "    <tr style=\"text-align: right;\">\n",
       "      <th></th>\n",
       "      <th>age</th>\n",
       "      <th>Medu</th>\n",
       "      <th>Fedu</th>\n",
       "      <th>traveltime</th>\n",
       "      <th>studytime</th>\n",
       "      <th>failures</th>\n",
       "      <th>studytime, granular</th>\n",
       "      <th>famrel</th>\n",
       "      <th>freetime</th>\n",
       "      <th>goout</th>\n",
       "      <th>health</th>\n",
       "      <th>absences</th>\n",
       "      <th>score</th>\n",
       "    </tr>\n",
       "  </thead>\n",
       "  <tbody>\n",
       "    <tr>\n",
       "      <th>count</th>\n",
       "      <td>395.000000</td>\n",
       "      <td>392.000000</td>\n",
       "      <td>371.000000</td>\n",
       "      <td>367.000000</td>\n",
       "      <td>388.000000</td>\n",
       "      <td>373.000000</td>\n",
       "      <td>388.000000</td>\n",
       "      <td>368.000000</td>\n",
       "      <td>384.000000</td>\n",
       "      <td>387.000000</td>\n",
       "      <td>380.000000</td>\n",
       "      <td>383.000000</td>\n",
       "      <td>389.000000</td>\n",
       "    </tr>\n",
       "    <tr>\n",
       "      <th>mean</th>\n",
       "      <td>16.696203</td>\n",
       "      <td>2.750000</td>\n",
       "      <td>2.614555</td>\n",
       "      <td>1.438692</td>\n",
       "      <td>2.038660</td>\n",
       "      <td>0.337802</td>\n",
       "      <td>-6.115979</td>\n",
       "      <td>3.937500</td>\n",
       "      <td>3.231771</td>\n",
       "      <td>3.105943</td>\n",
       "      <td>3.531579</td>\n",
       "      <td>7.279373</td>\n",
       "      <td>52.262211</td>\n",
       "    </tr>\n",
       "    <tr>\n",
       "      <th>std</th>\n",
       "      <td>1.276043</td>\n",
       "      <td>1.098127</td>\n",
       "      <td>2.228732</td>\n",
       "      <td>0.694181</td>\n",
       "      <td>0.842078</td>\n",
       "      <td>0.743135</td>\n",
       "      <td>2.526235</td>\n",
       "      <td>0.927277</td>\n",
       "      <td>0.993940</td>\n",
       "      <td>1.115896</td>\n",
       "      <td>1.396019</td>\n",
       "      <td>23.465197</td>\n",
       "      <td>22.919022</td>\n",
       "    </tr>\n",
       "    <tr>\n",
       "      <th>min</th>\n",
       "      <td>15.000000</td>\n",
       "      <td>0.000000</td>\n",
       "      <td>0.000000</td>\n",
       "      <td>1.000000</td>\n",
       "      <td>1.000000</td>\n",
       "      <td>0.000000</td>\n",
       "      <td>-12.000000</td>\n",
       "      <td>-1.000000</td>\n",
       "      <td>1.000000</td>\n",
       "      <td>1.000000</td>\n",
       "      <td>1.000000</td>\n",
       "      <td>0.000000</td>\n",
       "      <td>0.000000</td>\n",
       "    </tr>\n",
       "    <tr>\n",
       "      <th>25%</th>\n",
       "      <td>16.000000</td>\n",
       "      <td>2.000000</td>\n",
       "      <td>2.000000</td>\n",
       "      <td>1.000000</td>\n",
       "      <td>1.000000</td>\n",
       "      <td>0.000000</td>\n",
       "      <td>-6.000000</td>\n",
       "      <td>4.000000</td>\n",
       "      <td>3.000000</td>\n",
       "      <td>2.000000</td>\n",
       "      <td>3.000000</td>\n",
       "      <td>0.000000</td>\n",
       "      <td>40.000000</td>\n",
       "    </tr>\n",
       "    <tr>\n",
       "      <th>50%</th>\n",
       "      <td>17.000000</td>\n",
       "      <td>3.000000</td>\n",
       "      <td>2.000000</td>\n",
       "      <td>1.000000</td>\n",
       "      <td>2.000000</td>\n",
       "      <td>0.000000</td>\n",
       "      <td>-6.000000</td>\n",
       "      <td>4.000000</td>\n",
       "      <td>3.000000</td>\n",
       "      <td>3.000000</td>\n",
       "      <td>4.000000</td>\n",
       "      <td>4.000000</td>\n",
       "      <td>55.000000</td>\n",
       "    </tr>\n",
       "    <tr>\n",
       "      <th>75%</th>\n",
       "      <td>18.000000</td>\n",
       "      <td>4.000000</td>\n",
       "      <td>3.000000</td>\n",
       "      <td>2.000000</td>\n",
       "      <td>2.000000</td>\n",
       "      <td>0.000000</td>\n",
       "      <td>-3.000000</td>\n",
       "      <td>5.000000</td>\n",
       "      <td>4.000000</td>\n",
       "      <td>4.000000</td>\n",
       "      <td>5.000000</td>\n",
       "      <td>8.000000</td>\n",
       "      <td>70.000000</td>\n",
       "    </tr>\n",
       "    <tr>\n",
       "      <th>max</th>\n",
       "      <td>22.000000</td>\n",
       "      <td>4.000000</td>\n",
       "      <td>40.000000</td>\n",
       "      <td>4.000000</td>\n",
       "      <td>4.000000</td>\n",
       "      <td>3.000000</td>\n",
       "      <td>-3.000000</td>\n",
       "      <td>5.000000</td>\n",
       "      <td>5.000000</td>\n",
       "      <td>5.000000</td>\n",
       "      <td>5.000000</td>\n",
       "      <td>385.000000</td>\n",
       "      <td>100.000000</td>\n",
       "    </tr>\n",
       "  </tbody>\n",
       "</table>\n",
       "</div>"
      ],
      "text/plain": [
       "              age        Medu        Fedu  traveltime   studytime    failures  \\\n",
       "count  395.000000  392.000000  371.000000  367.000000  388.000000  373.000000   \n",
       "mean    16.696203    2.750000    2.614555    1.438692    2.038660    0.337802   \n",
       "std      1.276043    1.098127    2.228732    0.694181    0.842078    0.743135   \n",
       "min     15.000000    0.000000    0.000000    1.000000    1.000000    0.000000   \n",
       "25%     16.000000    2.000000    2.000000    1.000000    1.000000    0.000000   \n",
       "50%     17.000000    3.000000    2.000000    1.000000    2.000000    0.000000   \n",
       "75%     18.000000    4.000000    3.000000    2.000000    2.000000    0.000000   \n",
       "max     22.000000    4.000000   40.000000    4.000000    4.000000    3.000000   \n",
       "\n",
       "       studytime, granular      famrel    freetime       goout      health  \\\n",
       "count           388.000000  368.000000  384.000000  387.000000  380.000000   \n",
       "mean             -6.115979    3.937500    3.231771    3.105943    3.531579   \n",
       "std               2.526235    0.927277    0.993940    1.115896    1.396019   \n",
       "min             -12.000000   -1.000000    1.000000    1.000000    1.000000   \n",
       "25%              -6.000000    4.000000    3.000000    2.000000    3.000000   \n",
       "50%              -6.000000    4.000000    3.000000    3.000000    4.000000   \n",
       "75%              -3.000000    5.000000    4.000000    4.000000    5.000000   \n",
       "max              -3.000000    5.000000    5.000000    5.000000    5.000000   \n",
       "\n",
       "         absences       score  \n",
       "count  383.000000  389.000000  \n",
       "mean     7.279373   52.262211  \n",
       "std     23.465197   22.919022  \n",
       "min      0.000000    0.000000  \n",
       "25%      0.000000   40.000000  \n",
       "50%      4.000000   55.000000  \n",
       "75%      8.000000   70.000000  \n",
       "max    385.000000  100.000000  "
      ]
     },
     "execution_count": 3,
     "metadata": {},
     "output_type": "execute_result"
    }
   ],
   "source": [
    "# Проверим числовые параметры\n",
    "\n",
    "data.describe()"
   ]
  },
  {
   "cell_type": "code",
   "execution_count": 4,
   "metadata": {},
   "outputs": [],
   "source": [
    "# Удаляем колонку \"studytime, granular\" (данные отрицательные и кратные 3 - не понятно о чём эти данные говорят)\n",
    "\n",
    "data.drop(columns=['studytime, granular'], inplace=True)"
   ]
  },
  {
   "cell_type": "code",
   "execution_count": 5,
   "metadata": {},
   "outputs": [
    {
     "data": {
      "text/plain": [
       "16    104\n",
       "17     98\n",
       "18     82\n",
       "15     82\n",
       "19     24\n",
       "Name: age, dtype: int64"
      ]
     },
     "execution_count": 5,
     "metadata": {},
     "output_type": "execute_result"
    }
   ],
   "source": [
    "# Основная масса - в районе 16-18 лет. Удаляем записи нескольких учеников, которые значительно старше остальных.\n",
    "\n",
    "data.drop(data[data.age > 19].index, inplace = True) \n",
    "\n",
    "data.age.value_counts()"
   ]
  },
  {
   "cell_type": "code",
   "execution_count": 6,
   "metadata": {},
   "outputs": [
    {
     "data": {
      "text/plain": [
       "2.0    103\n",
       "3.0     96\n",
       "4.0     88\n",
       "1.0     76\n",
       "0.0      2\n",
       "Name: Fedu, dtype: int64"
      ]
     },
     "execution_count": 6,
     "metadata": {},
     "output_type": "execute_result"
    }
   ],
   "source": [
    "# Fedu содержит невалидное значение, равное 40. Можно предположить что это опечатка и имелось ввиду 4, но лучше удалить эту запись.\n",
    "\n",
    "data.drop(data[data.Fedu == 40].index, inplace = True) \n",
    "\n",
    "data.Fedu.value_counts()"
   ]
  },
  {
   "cell_type": "code",
   "execution_count": 7,
   "metadata": {
    "scrolled": true
   },
   "outputs": [
    {
     "data": {
      "text/plain": [
       "4.0    182\n",
       "5.0     93\n",
       "3.0     62\n",
       "2.0     17\n",
       "1.0      7\n",
       "Name: famrel, dtype: int64"
      ]
     },
     "execution_count": 7,
     "metadata": {},
     "output_type": "execute_result"
    }
   ],
   "source": [
    "# Есть запись с невалидным значением famrel (-1) - удаляем\n",
    "\n",
    "data.drop(data[data.famrel == -1].index, inplace = True) \n",
    "\n",
    "data.famrel.value_counts()"
   ]
  },
  {
   "cell_type": "code",
   "execution_count": 8,
   "metadata": {},
   "outputs": [
    {
     "data": {
      "text/plain": [
       "<matplotlib.axes._subplots.AxesSubplot at 0x18c23168160>"
      ]
     },
     "execution_count": 8,
     "metadata": {},
     "output_type": "execute_result"
    },
    {
     "data": {
      "image/png": "[encoded data removed]",
      "text/plain": [
       "<Figure size 432x288 with 1 Axes>"
      ]
     },
     "metadata": {
      "needs_background": "light"
     },
     "output_type": "display_data"
    }
   ],
   "source": [
    "data.absences.hist(bins=100)"
   ]
  },
  {
   "cell_type": "code",
   "execution_count": 9,
   "metadata": {},
   "outputs": [],
   "source": [
    "# absenses содержит экстремально высокие значения, стоит обрезать сверху.\n",
    "\n",
    "# Только шестеро пропустили больше 30 раз. Удаляем их\n",
    "# data.drop(data[data.absences > 30].index, inplace = True) \n",
    "\n",
    "data = remove_outliers_top(data, ['absences']) # Удаляем 32 прогульщика с 20 и более прогулами"
   ]
  },
  {
   "cell_type": "code",
   "execution_count": 10,
   "metadata": {},
   "outputs": [
    {
     "data": {
      "text/plain": [
       "<matplotlib.axes._subplots.AxesSubplot at 0x18c239a2640>"
      ]
     },
     "execution_count": 10,
     "metadata": {},
     "output_type": "execute_result"
    },
    {
     "data": {
      "image/png": "[encoded data removed]",
      "text/plain": [
       "<Figure size 432x288 with 1 Axes>"
      ]
     },
     "metadata": {
      "needs_background": "light"
     },
     "output_type": "display_data"
    }
   ],
   "source": [
    "data.absences.hist(bins=100)"
   ]
  },
  {
   "cell_type": "code",
   "execution_count": 11,
   "metadata": {},
   "outputs": [
    {
     "data": {
      "text/html": [
       "<div>\n",
       "<style scoped>\n",
       "    .dataframe tbody tr th:only-of-type {\n",
       "        vertical-align: middle;\n",
       "    }\n",
       "\n",
       "    .dataframe tbody tr th {\n",
       "        vertical-align: top;\n",
       "    }\n",
       "\n",
       "    .dataframe thead th {\n",
       "        text-align: right;\n",
       "    }\n",
       "</style>\n",
       "<table border=\"1\" class=\"dataframe\">\n",
       "  <thead>\n",
       "    <tr style=\"text-align: right;\">\n",
       "      <th></th>\n",
       "      <th>age</th>\n",
       "      <th>Medu</th>\n",
       "      <th>Fedu</th>\n",
       "      <th>traveltime</th>\n",
       "      <th>studytime</th>\n",
       "      <th>failures</th>\n",
       "      <th>famrel</th>\n",
       "      <th>freetime</th>\n",
       "      <th>goout</th>\n",
       "      <th>health</th>\n",
       "      <th>absences</th>\n",
       "      <th>score</th>\n",
       "    </tr>\n",
       "  </thead>\n",
       "  <tbody>\n",
       "    <tr>\n",
       "      <th>count</th>\n",
       "      <td>356.000000</td>\n",
       "      <td>353.000000</td>\n",
       "      <td>333.000000</td>\n",
       "      <td>328.000000</td>\n",
       "      <td>351.000000</td>\n",
       "      <td>337.000000</td>\n",
       "      <td>331.000000</td>\n",
       "      <td>348.000000</td>\n",
       "      <td>348.000000</td>\n",
       "      <td>341.000000</td>\n",
       "      <td>356.000000</td>\n",
       "      <td>351.000000</td>\n",
       "    </tr>\n",
       "    <tr>\n",
       "      <th>mean</th>\n",
       "      <td>16.603933</td>\n",
       "      <td>2.750708</td>\n",
       "      <td>2.498498</td>\n",
       "      <td>1.439024</td>\n",
       "      <td>2.059829</td>\n",
       "      <td>0.293769</td>\n",
       "      <td>3.951662</td>\n",
       "      <td>3.244253</td>\n",
       "      <td>3.094828</td>\n",
       "      <td>3.551320</td>\n",
       "      <td>4.393258</td>\n",
       "      <td>51.851852</td>\n",
       "    </tr>\n",
       "    <tr>\n",
       "      <th>std</th>\n",
       "      <td>1.188151</td>\n",
       "      <td>1.107903</td>\n",
       "      <td>1.093862</td>\n",
       "      <td>0.701201</td>\n",
       "      <td>0.854808</td>\n",
       "      <td>0.698461</td>\n",
       "      <td>0.899876</td>\n",
       "      <td>0.972591</td>\n",
       "      <td>1.105228</td>\n",
       "      <td>1.385165</td>\n",
       "      <td>4.685291</td>\n",
       "      <td>23.086564</td>\n",
       "    </tr>\n",
       "    <tr>\n",
       "      <th>min</th>\n",
       "      <td>15.000000</td>\n",
       "      <td>0.000000</td>\n",
       "      <td>0.000000</td>\n",
       "      <td>1.000000</td>\n",
       "      <td>1.000000</td>\n",
       "      <td>0.000000</td>\n",
       "      <td>1.000000</td>\n",
       "      <td>1.000000</td>\n",
       "      <td>1.000000</td>\n",
       "      <td>1.000000</td>\n",
       "      <td>0.000000</td>\n",
       "      <td>0.000000</td>\n",
       "    </tr>\n",
       "    <tr>\n",
       "      <th>25%</th>\n",
       "      <td>16.000000</td>\n",
       "      <td>2.000000</td>\n",
       "      <td>2.000000</td>\n",
       "      <td>1.000000</td>\n",
       "      <td>1.000000</td>\n",
       "      <td>0.000000</td>\n",
       "      <td>4.000000</td>\n",
       "      <td>3.000000</td>\n",
       "      <td>2.000000</td>\n",
       "      <td>3.000000</td>\n",
       "      <td>0.000000</td>\n",
       "      <td>42.500000</td>\n",
       "    </tr>\n",
       "    <tr>\n",
       "      <th>50%</th>\n",
       "      <td>17.000000</td>\n",
       "      <td>3.000000</td>\n",
       "      <td>2.000000</td>\n",
       "      <td>1.000000</td>\n",
       "      <td>2.000000</td>\n",
       "      <td>0.000000</td>\n",
       "      <td>4.000000</td>\n",
       "      <td>3.000000</td>\n",
       "      <td>3.000000</td>\n",
       "      <td>4.000000</td>\n",
       "      <td>3.000000</td>\n",
       "      <td>55.000000</td>\n",
       "    </tr>\n",
       "    <tr>\n",
       "      <th>75%</th>\n",
       "      <td>18.000000</td>\n",
       "      <td>4.000000</td>\n",
       "      <td>3.000000</td>\n",
       "      <td>2.000000</td>\n",
       "      <td>2.000000</td>\n",
       "      <td>0.000000</td>\n",
       "      <td>5.000000</td>\n",
       "      <td>4.000000</td>\n",
       "      <td>4.000000</td>\n",
       "      <td>5.000000</td>\n",
       "      <td>6.250000</td>\n",
       "      <td>70.000000</td>\n",
       "    </tr>\n",
       "    <tr>\n",
       "      <th>max</th>\n",
       "      <td>19.000000</td>\n",
       "      <td>4.000000</td>\n",
       "      <td>4.000000</td>\n",
       "      <td>4.000000</td>\n",
       "      <td>4.000000</td>\n",
       "      <td>3.000000</td>\n",
       "      <td>5.000000</td>\n",
       "      <td>5.000000</td>\n",
       "      <td>5.000000</td>\n",
       "      <td>5.000000</td>\n",
       "      <td>19.000000</td>\n",
       "      <td>100.000000</td>\n",
       "    </tr>\n",
       "  </tbody>\n",
       "</table>\n",
       "</div>"
      ],
      "text/plain": [
       "              age        Medu        Fedu  traveltime   studytime    failures  \\\n",
       "count  356.000000  353.000000  333.000000  328.000000  351.000000  337.000000   \n",
       "mean    16.603933    2.750708    2.498498    1.439024    2.059829    0.293769   \n",
       "std      1.188151    1.107903    1.093862    0.701201    0.854808    0.698461   \n",
       "min     15.000000    0.000000    0.000000    1.000000    1.000000    0.000000   \n",
       "25%     16.000000    2.000000    2.000000    1.000000    1.000000    0.000000   \n",
       "50%     17.000000    3.000000    2.000000    1.000000    2.000000    0.000000   \n",
       "75%     18.000000    4.000000    3.000000    2.000000    2.000000    0.000000   \n",
       "max     19.000000    4.000000    4.000000    4.000000    4.000000    3.000000   \n",
       "\n",
       "           famrel    freetime       goout      health    absences       score  \n",
       "count  331.000000  348.000000  348.000000  341.000000  356.000000  351.000000  \n",
       "mean     3.951662    3.244253    3.094828    3.551320    4.393258   51.851852  \n",
       "std      0.899876    0.972591    1.105228    1.385165    4.685291   23.086564  \n",
       "min      1.000000    1.000000    1.000000    1.000000    0.000000    0.000000  \n",
       "25%      4.000000    3.000000    2.000000    3.000000    0.000000   42.500000  \n",
       "50%      4.000000    3.000000    3.000000    4.000000    3.000000   55.000000  \n",
       "75%      5.000000    4.000000    4.000000    5.000000    6.250000   70.000000  \n",
       "max      5.000000    5.000000    5.000000    5.000000   19.000000  100.000000  "
      ]
     },
     "execution_count": 11,
     "metadata": {},
     "output_type": "execute_result"
    }
   ],
   "source": [
    "data.describe()\n",
    "\n",
    "# Все числовые значения в порядке"
   ]
  },
  {
   "cell_type": "code",
   "execution_count": 12,
   "metadata": {},
   "outputs": [
    {
     "name": "stdout",
     "output_type": "stream",
     "text": [
      "<class 'pandas.core.frame.DataFrame'>\n",
      "Int64Index: 356 entries, 0 to 394\n",
      "Data columns (total 29 columns):\n",
      " #   Column      Non-Null Count  Dtype  \n",
      "---  ------      --------------  -----  \n",
      " 0   school      356 non-null    object \n",
      " 1   sex         356 non-null    object \n",
      " 2   age         356 non-null    int64  \n",
      " 3   address     342 non-null    object \n",
      " 4   famsize     335 non-null    object \n",
      " 5   Pstatus     320 non-null    object \n",
      " 6   Medu        353 non-null    float64\n",
      " 7   Fedu        333 non-null    float64\n",
      " 8   Mjob        340 non-null    object \n",
      " 9   Fjob        323 non-null    object \n",
      " 10  reason      339 non-null    object \n",
      " 11  guardian    328 non-null    object \n",
      " 12  traveltime  328 non-null    float64\n",
      " 13  studytime   351 non-null    float64\n",
      " 14  failures    337 non-null    float64\n",
      " 15  schoolsup   348 non-null    object \n",
      " 16  famsup      322 non-null    object \n",
      " 17  paid        318 non-null    object \n",
      " 18  activities  342 non-null    object \n",
      " 19  nursery     340 non-null    object \n",
      " 20  higher      339 non-null    object \n",
      " 21  internet    325 non-null    object \n",
      " 22  romantic    326 non-null    object \n",
      " 23  famrel      331 non-null    float64\n",
      " 24  freetime    348 non-null    float64\n",
      " 25  goout       348 non-null    float64\n",
      " 26  health      341 non-null    float64\n",
      " 27  absences    356 non-null    float64\n",
      " 28  score       351 non-null    float64\n",
      "dtypes: float64(11), int64(1), object(17)\n",
      "memory usage: 83.4+ KB\n"
     ]
    }
   ],
   "source": [
    "# Изучим пропуски\n",
    "\n",
    "data.info() "
   ]
  },
  {
   "cell_type": "code",
   "execution_count": 13,
   "metadata": {},
   "outputs": [],
   "source": [
    "# Ввиду маленькой выборки, постараемся сохранить данные вместо их удаления\n",
    "# Использование моды может исказить данные маленькой выборки, так что заменим пустые номинативные данные словом \"unknown\"\n",
    "# Заменим пропуски\n",
    "\n",
    "data.fillna({\n",
    "    # 'school':'unknown', # Пропусков нет\n",
    "    # 'sex':'unknown', # Пропусков нет\n",
    "    'address':'unknown',\n",
    "    'famsize':'unknown',\n",
    "    'Pstatus':'unknown',\n",
    "    'Medu': data.Medu.mean(),\n",
    "    'Fedu': data.Fedu.mean(),\n",
    "    'Mjob':'unknown',\n",
    "    'Fjob':'unknown',\n",
    "    'reason':'unknown',\n",
    "    'guardian':'unknown',\n",
    "    'traveltime': data.traveltime.mean(),\n",
    "    'studytime': data.studytime.mean(),\n",
    "    'failures': data.failures.mean(),\n",
    "    'schoolsup': 'unknown',\n",
    "    'famsup': 'unknown',    \n",
    "    'paid': 'unknown',\n",
    "    'activities': 'unknown',\n",
    "    'nursery': 'unknown',\n",
    "    'higher': 'unknown',\n",
    "    'internet': 'unknown',\n",
    "    'romantic': 'unknown',\n",
    "    'famrel': data.famrel.mean(),\n",
    "    'freetime': data.freetime.mean(),\n",
    "    'goout': data.freetime.mean(),\n",
    "    'health': data.freetime.mean(),\n",
    "    # 'absences': data.freetime.mean() # Пропусков нет\n",
    "    # 'score': 0 # Рассмотрим отдельно\n",
    "    }, inplace=True)"
   ]
  },
  {
   "cell_type": "code",
   "execution_count": 14,
   "metadata": {},
   "outputs": [
    {
     "name": "stdout",
     "output_type": "stream",
     "text": [
      "<class 'pandas.core.frame.DataFrame'>\n",
      "Int64Index: 356 entries, 0 to 394\n",
      "Data columns (total 29 columns):\n",
      " #   Column      Non-Null Count  Dtype  \n",
      "---  ------      --------------  -----  \n",
      " 0   school      356 non-null    object \n",
      " 1   sex         356 non-null    object \n",
      " 2   age         356 non-null    int64  \n",
      " 3   address     356 non-null    object \n",
      " 4   famsize     356 non-null    object \n",
      " 5   Pstatus     356 non-null    object \n",
      " 6   Medu        356 non-null    float64\n",
      " 7   Fedu        356 non-null    float64\n",
      " 8   Mjob        356 non-null    object \n",
      " 9   Fjob        356 non-null    object \n",
      " 10  reason      356 non-null    object \n",
      " 11  guardian    356 non-null    object \n",
      " 12  traveltime  356 non-null    float64\n",
      " 13  studytime   356 non-null    float64\n",
      " 14  failures    356 non-null    float64\n",
      " 15  schoolsup   356 non-null    object \n",
      " 16  famsup      356 non-null    object \n",
      " 17  paid        356 non-null    object \n",
      " 18  activities  356 non-null    object \n",
      " 19  nursery     356 non-null    object \n",
      " 20  higher      356 non-null    object \n",
      " 21  internet    356 non-null    object \n",
      " 22  romantic    356 non-null    object \n",
      " 23  famrel      356 non-null    float64\n",
      " 24  freetime    356 non-null    float64\n",
      " 25  goout       356 non-null    float64\n",
      " 26  health      356 non-null    float64\n",
      " 27  absences    356 non-null    float64\n",
      " 28  score       351 non-null    float64\n",
      "dtypes: float64(11), int64(1), object(17)\n",
      "memory usage: 83.4+ KB\n"
     ]
    }
   ],
   "source": [
    "# Проверим пропуски ещё раз\n",
    "\n",
    "data.info() "
   ]
  },
  {
   "cell_type": "code",
   "execution_count": 15,
   "metadata": {},
   "outputs": [
    {
     "name": "stdout",
     "output_type": "stream",
     "text": [
      "count    351.000000\n",
      "mean      51.851852\n",
      "std       23.086564\n",
      "min        0.000000\n",
      "25%       42.500000\n",
      "50%       55.000000\n",
      "75%       70.000000\n",
      "max      100.000000\n",
      "Name: score, dtype: float64\n"
     ]
    },
    {
     "data": {
      "image/png": "[encoded data removed]",
      "text/plain": [
       "<Figure size 432x288 with 1 Axes>"
      ]
     },
     "metadata": {
      "needs_background": "light"
     },
     "output_type": "display_data"
    }
   ],
   "source": [
    "# Проверим основной параметр, по которому мы будем судить учеников - score\n",
    "\n",
    "data.score.hist(bins=100)\n",
    "print(data.score.describe())"
   ]
  },
  {
   "cell_type": "code",
   "execution_count": 16,
   "metadata": {},
   "outputs": [],
   "source": [
    "# Есть пропуски и значения равные 0, в то время как все остальные ученики имеют балл выше 20. Считаем нули и пустые значения нерепрезентативными и удаляем.\n",
    "\n",
    "data = data.loc[data.score > 20]"
   ]
  },
  {
   "cell_type": "code",
   "execution_count": 17,
   "metadata": {},
   "outputs": [
    {
     "name": "stdout",
     "output_type": "stream",
     "text": [
      "GP    278\n",
      "MS     37\n",
      "Name: school, dtype: int64\n",
      "F    161\n",
      "M    154\n",
      "Name: sex, dtype: int64\n",
      "U          237\n",
      "R           66\n",
      "unknown     12\n",
      "Name: address, dtype: int64\n",
      "GT3        204\n",
      "LE3         93\n",
      "unknown     18\n",
      "Name: famsize, dtype: int64\n",
      "T          254\n",
      "unknown     32\n",
      "A           29\n",
      "Name: Pstatus, dtype: int64\n",
      "other       103\n",
      "services     76\n",
      "teacher      48\n",
      "at_home      45\n",
      "health       29\n",
      "unknown      14\n",
      "Name: Mjob, dtype: int64\n",
      "other       158\n",
      "services     78\n",
      "unknown      29\n",
      "teacher      22\n",
      "at_home      14\n",
      "health       14\n",
      "Name: Fjob, dtype: int64\n",
      "course        108\n",
      "reputation     86\n",
      "home           77\n",
      "other          29\n",
      "unknown        15\n",
      "Name: reason, dtype: int64\n",
      "mother     202\n",
      "father      73\n",
      "unknown     26\n",
      "other       14\n",
      "Name: guardian, dtype: int64\n",
      "no         263\n",
      "yes         44\n",
      "unknown      8\n",
      "Name: schoolsup, dtype: int64\n",
      "yes        176\n",
      "no         108\n",
      "unknown     31\n",
      "Name: famsup, dtype: int64\n",
      "no         152\n",
      "yes        129\n",
      "unknown     34\n",
      "Name: paid, dtype: int64\n",
      "yes        158\n",
      "no         145\n",
      "unknown     12\n",
      "Name: activities, dtype: int64\n",
      "yes        245\n",
      "no          58\n",
      "unknown     12\n",
      "Name: nursery, dtype: int64\n",
      "yes        290\n",
      "unknown     16\n",
      "no           9\n",
      "Name: higher, dtype: int64\n",
      "yes        243\n",
      "no          46\n",
      "unknown     26\n",
      "Name: internet, dtype: int64\n",
      "no         200\n",
      "yes         87\n",
      "unknown     28\n",
      "Name: romantic, dtype: int64\n"
     ]
    }
   ],
   "source": [
    "# Изучим номинативные переменные\n",
    "\n",
    "print(data.school.value_counts())\n",
    "print(data.sex.value_counts())\n",
    "print(data.address.value_counts())\n",
    "print(data.famsize.value_counts())\n",
    "print(data.Pstatus.value_counts())\n",
    "print(data.Mjob.value_counts())\n",
    "print(data.Fjob.value_counts())\n",
    "print(data.reason.value_counts())\n",
    "print(data.guardian.value_counts())\n",
    "print(data.schoolsup.value_counts())\n",
    "print(data.famsup.value_counts())\n",
    "print(data.paid.value_counts())\n",
    "print(data.activities.value_counts())\n",
    "print(data.nursery.value_counts())\n",
    "print(data.higher.value_counts())\n",
    "print(data.internet.value_counts())\n",
    "print(data.romantic.value_counts())\n",
    "\n",
    "# Всё в порядке."
   ]
  },
  {
   "cell_type": "code",
   "execution_count": 18,
   "metadata": {},
   "outputs": [
    {
     "name": "stdout",
     "output_type": "stream",
     "text": [
      "<class 'pandas.core.frame.DataFrame'>\n",
      "Int64Index: 315 entries, 0 to 394\n",
      "Data columns (total 29 columns):\n",
      " #   Column      Non-Null Count  Dtype  \n",
      "---  ------      --------------  -----  \n",
      " 0   school      315 non-null    object \n",
      " 1   sex         315 non-null    object \n",
      " 2   age         315 non-null    int64  \n",
      " 3   address     315 non-null    object \n",
      " 4   famsize     315 non-null    object \n",
      " 5   Pstatus     315 non-null    object \n",
      " 6   Medu        315 non-null    float64\n",
      " 7   Fedu        315 non-null    float64\n",
      " 8   Mjob        315 non-null    object \n",
      " 9   Fjob        315 non-null    object \n",
      " 10  reason      315 non-null    object \n",
      " 11  guardian    315 non-null    object \n",
      " 12  traveltime  315 non-null    float64\n",
      " 13  studytime   315 non-null    float64\n",
      " 14  failures    315 non-null    float64\n",
      " 15  schoolsup   315 non-null    object \n",
      " 16  famsup      315 non-null    object \n",
      " 17  paid        315 non-null    object \n",
      " 18  activities  315 non-null    object \n",
      " 19  nursery     315 non-null    object \n",
      " 20  higher      315 non-null    object \n",
      " 21  internet    315 non-null    object \n",
      " 22  romantic    315 non-null    object \n",
      " 23  famrel      315 non-null    float64\n",
      " 24  freetime    315 non-null    float64\n",
      " 25  goout       315 non-null    float64\n",
      " 26  health      315 non-null    float64\n",
      " 27  absences    315 non-null    float64\n",
      " 28  score       315 non-null    float64\n",
      "dtypes: float64(11), int64(1), object(17)\n",
      "memory usage: 73.8+ KB\n"
     ]
    }
   ],
   "source": [
    "# В итоге у нас есть 315 записей для анализа\n",
    "\n",
    "data.info() "
   ]
  },
  {
   "cell_type": "markdown",
   "metadata": {},
   "source": [
    "# Корреляционный анализ"
   ]
  },
  {
   "cell_type": "code",
   "execution_count": 19,
   "metadata": {},
   "outputs": [
    {
     "data": {
      "text/plain": [
       "<matplotlib.axes._subplots.AxesSubplot at 0x18c23ce4a90>"
      ]
     },
     "execution_count": 19,
     "metadata": {},
     "output_type": "execute_result"
    },
    {
     "data": {
      "image/png": "[encoded data removed]",
      "text/plain": [
       "<Figure size 432x288 with 2 Axes>"
      ]
     },
     "metadata": {
      "needs_background": "light"
     },
     "output_type": "display_data"
    }
   ],
   "source": [
    "# Изучим корреляцию данных\n",
    "\n",
    "corr = data.corr()\n",
    "mask = np.triu(corr)\n",
    "sns.heatmap(corr, mask=mask, cmap=\"coolwarm\", center=0)"
   ]
  },
  {
   "cell_type": "code",
   "execution_count": 20,
   "metadata": {},
   "outputs": [
    {
     "data": {
      "text/plain": [
       "age          -0.148779\n",
       "Medu          0.183956\n",
       "Fedu          0.126934\n",
       "traveltime   -0.078486\n",
       "studytime     0.140871\n",
       "failures     -0.258376\n",
       "famrel        0.055423\n",
       "freetime     -0.011713\n",
       "goout        -0.185715\n",
       "health       -0.067266\n",
       "absences     -0.244307\n",
       "score         1.000000\n",
       "dtype: float64"
      ]
     },
     "execution_count": 20,
     "metadata": {},
     "output_type": "execute_result"
    }
   ],
   "source": [
    "# Посмотрим какие числовые параметры влияют на балл\n",
    "\n",
    "data.corrwith(data.score)"
   ]
  },
  {
   "cell_type": "code",
   "execution_count": 21,
   "metadata": {},
   "outputs": [
    {
     "data": {
      "text/plain": [
       "<matplotlib.axes._subplots.AxesSubplot at 0x18c23c7d5e0>"
      ]
     },
     "execution_count": 21,
     "metadata": {},
     "output_type": "execute_result"
    },
    {
     "data": {
      "image/png": "[encoded data removed]",
      "text/plain": [
       "<Figure size 432x288 with 2 Axes>"
      ]
     },
     "metadata": {
      "needs_background": "light"
     },
     "output_type": "display_data"
    }
   ],
   "source": [
    "# Посмотрим как менется картина в зависимости от пола\n",
    "# Интересно, что путь до школы почти не влияет на кол-во проблем у девочек\n",
    "\n",
    "sns.heatmap(data[data.sex == 'F'].corr(), mask=mask, cmap=\"coolwarm\", center=0)"
   ]
  },
  {
   "cell_type": "code",
   "execution_count": 22,
   "metadata": {
    "scrolled": false
   },
   "outputs": [
    {
     "data": {
      "text/plain": [
       "<matplotlib.axes._subplots.AxesSubplot at 0x18c242d08b0>"
      ]
     },
     "execution_count": 22,
     "metadata": {},
     "output_type": "execute_result"
    },
    {
     "data": {
      "image/png": "[encoded data removed]",
      "text/plain": [
       "<Figure size 432x288 with 2 Axes>"
      ]
     },
     "metadata": {
      "needs_background": "light"
     },
     "output_type": "display_data"
    }
   ],
   "source": [
    "sns.heatmap(data[data.sex == 'M'].corr(), mask=mask, cmap=\"coolwarm\", center=0)"
   ]
  },
  {
   "cell_type": "code",
   "execution_count": 23,
   "metadata": {},
   "outputs": [
    {
     "data": {
      "text/html": [
       "<div>\n",
       "<style scoped>\n",
       "    .dataframe tbody tr th:only-of-type {\n",
       "        vertical-align: middle;\n",
       "    }\n",
       "\n",
       "    .dataframe tbody tr th {\n",
       "        vertical-align: top;\n",
       "    }\n",
       "\n",
       "    .dataframe thead th {\n",
       "        text-align: right;\n",
       "    }\n",
       "</style>\n",
       "<table border=\"1\" class=\"dataframe\">\n",
       "  <thead>\n",
       "    <tr style=\"text-align: right;\">\n",
       "      <th></th>\n",
       "      <th>age</th>\n",
       "      <th>Medu</th>\n",
       "      <th>Fedu</th>\n",
       "      <th>traveltime</th>\n",
       "      <th>studytime</th>\n",
       "      <th>failures</th>\n",
       "      <th>famrel</th>\n",
       "      <th>freetime</th>\n",
       "      <th>goout</th>\n",
       "      <th>health</th>\n",
       "      <th>absences</th>\n",
       "      <th>score</th>\n",
       "    </tr>\n",
       "    <tr>\n",
       "      <th>sex</th>\n",
       "      <th></th>\n",
       "      <th></th>\n",
       "      <th></th>\n",
       "      <th></th>\n",
       "      <th></th>\n",
       "      <th></th>\n",
       "      <th></th>\n",
       "      <th></th>\n",
       "      <th></th>\n",
       "      <th></th>\n",
       "      <th></th>\n",
       "      <th></th>\n",
       "    </tr>\n",
       "  </thead>\n",
       "  <tbody>\n",
       "    <tr>\n",
       "      <th>F</th>\n",
       "      <td>16.633540</td>\n",
       "      <td>2.743793</td>\n",
       "      <td>2.521665</td>\n",
       "      <td>1.383275</td>\n",
       "      <td>2.305834</td>\n",
       "      <td>0.222128</td>\n",
       "      <td>3.928675</td>\n",
       "      <td>3.072874</td>\n",
       "      <td>3.068180</td>\n",
       "      <td>3.355412</td>\n",
       "      <td>4.857143</td>\n",
       "      <td>55.900621</td>\n",
       "    </tr>\n",
       "    <tr>\n",
       "      <th>M</th>\n",
       "      <td>16.428571</td>\n",
       "      <td>2.887992</td>\n",
       "      <td>2.532351</td>\n",
       "      <td>1.470067</td>\n",
       "      <td>1.818570</td>\n",
       "      <td>0.241763</td>\n",
       "      <td>3.976753</td>\n",
       "      <td>3.431744</td>\n",
       "      <td>3.107068</td>\n",
       "      <td>3.713987</td>\n",
       "      <td>4.941558</td>\n",
       "      <td>59.740260</td>\n",
       "    </tr>\n",
       "  </tbody>\n",
       "</table>\n",
       "</div>"
      ],
      "text/plain": [
       "           age      Medu      Fedu  traveltime  studytime  failures    famrel  \\\n",
       "sex                                                                             \n",
       "F    16.633540  2.743793  2.521665    1.383275   2.305834  0.222128  3.928675   \n",
       "M    16.428571  2.887992  2.532351    1.470067   1.818570  0.241763  3.976753   \n",
       "\n",
       "     freetime     goout    health  absences      score  \n",
       "sex                                                     \n",
       "F    3.072874  3.068180  3.355412  4.857143  55.900621  \n",
       "M    3.431744  3.107068  3.713987  4.941558  59.740260  "
      ]
     },
     "execution_count": 23,
     "metadata": {},
     "output_type": "execute_result"
    }
   ],
   "source": [
    "# Как в целом данные отличаются у мальчиков и девочек\n",
    "\n",
    "data_sex = data.groupby(by=data.sex)\n",
    "data_sex.mean()"
   ]
  },
  {
   "cell_type": "code",
   "execution_count": 24,
   "metadata": {},
   "outputs": [
    {
     "data": {
      "text/html": [
       "<div>\n",
       "<style scoped>\n",
       "    .dataframe tbody tr th:only-of-type {\n",
       "        vertical-align: middle;\n",
       "    }\n",
       "\n",
       "    .dataframe tbody tr th {\n",
       "        vertical-align: top;\n",
       "    }\n",
       "\n",
       "    .dataframe thead th {\n",
       "        text-align: right;\n",
       "    }\n",
       "</style>\n",
       "<table border=\"1\" class=\"dataframe\">\n",
       "  <thead>\n",
       "    <tr style=\"text-align: right;\">\n",
       "      <th></th>\n",
       "      <th>age</th>\n",
       "      <th>Medu</th>\n",
       "      <th>Fedu</th>\n",
       "      <th>traveltime</th>\n",
       "      <th>studytime</th>\n",
       "      <th>failures</th>\n",
       "      <th>famrel</th>\n",
       "      <th>freetime</th>\n",
       "      <th>goout</th>\n",
       "      <th>health</th>\n",
       "      <th>absences</th>\n",
       "      <th>score</th>\n",
       "    </tr>\n",
       "    <tr>\n",
       "      <th>sex</th>\n",
       "      <th></th>\n",
       "      <th></th>\n",
       "      <th></th>\n",
       "      <th></th>\n",
       "      <th></th>\n",
       "      <th></th>\n",
       "      <th></th>\n",
       "      <th></th>\n",
       "      <th></th>\n",
       "      <th></th>\n",
       "      <th></th>\n",
       "      <th></th>\n",
       "    </tr>\n",
       "  </thead>\n",
       "  <tbody>\n",
       "    <tr>\n",
       "      <th>F</th>\n",
       "      <td>0.045647</td>\n",
       "      <td>0.147261</td>\n",
       "      <td>0.074189</td>\n",
       "      <td>0.003755</td>\n",
       "      <td>0.238499</td>\n",
       "      <td>-0.190170</td>\n",
       "      <td>0.072814</td>\n",
       "      <td>-0.022317</td>\n",
       "      <td>-0.105091</td>\n",
       "      <td>-0.110044</td>\n",
       "      <td>-0.179973</td>\n",
       "      <td>1.0</td>\n",
       "    </tr>\n",
       "    <tr>\n",
       "      <th>M</th>\n",
       "      <td>-0.321813</td>\n",
       "      <td>0.209794</td>\n",
       "      <td>0.184408</td>\n",
       "      <td>-0.166863</td>\n",
       "      <td>0.131191</td>\n",
       "      <td>-0.338976</td>\n",
       "      <td>0.031795</td>\n",
       "      <td>-0.047067</td>\n",
       "      <td>-0.266984</td>\n",
       "      <td>-0.057824</td>\n",
       "      <td>-0.314879</td>\n",
       "      <td>1.0</td>\n",
       "    </tr>\n",
       "  </tbody>\n",
       "</table>\n",
       "</div>"
      ],
      "text/plain": [
       "          age      Medu      Fedu  traveltime  studytime  failures    famrel  \\\n",
       "sex                                                                            \n",
       "F    0.045647  0.147261  0.074189    0.003755   0.238499 -0.190170  0.072814   \n",
       "M   -0.321813  0.209794  0.184408   -0.166863   0.131191 -0.338976  0.031795   \n",
       "\n",
       "     freetime     goout    health  absences  score  \n",
       "sex                                                 \n",
       "F   -0.022317 -0.105091 -0.110044 -0.179973    1.0  \n",
       "M   -0.047067 -0.266984 -0.057824 -0.314879    1.0  "
      ]
     },
     "execution_count": 24,
     "metadata": {},
     "output_type": "execute_result"
    }
   ],
   "source": [
    "# Как отличается корреляция данных с баллом у мальчиков и девочек\n",
    "\n",
    "data_sex.corrwith(data.score)"
   ]
  },
  {
   "cell_type": "markdown",
   "metadata": {},
   "source": [
    "## Наблюдения после сопоставления числовых параметров\n",
    "\n",
    "* Супруги часто имеют схожий уровень образования.\n",
    "* При этом, чем выше образование родителей, тем лучшие результаты показывает ребёнок на экзамене по математике и является менее проблемным.\n",
    "* С возрастом, растёт количество пропусков и проблем, причиняемых ребёнком.\n",
    "* С возрастом идёт понижение среднего балла, но это скорей всего потому что  у старших детей в данной выборке - менее образованные родители.\n",
    "* Чем дольше ребёнок добирается до школы - тем больше вероятность причинения проблем по пути. И взрослые дети добираются до школы дольше - возможно потому что порой приоритезируют приключения. Зато такие дети более здоровые т.к. проводят больше времени на улице. \n",
    "* Числовые параметры, влияющие на балл:\n",
    "    * Дети с образованными родителями - более успешные в математике, видимо потому что им помогают с уроками дома\n",
    "    * Дети, которые больше занимаются, имеют более высокие баллы\n",
    "    * Проблемные и гуляющие дети имеют более низкий балл по математике\n",
    "* Пол серьёзно влияет на некоторые другие показатели, так что имеет смысл изучать мальчиков и девочек отдельно"
   ]
  },
  {
   "cell_type": "markdown",
   "metadata": {},
   "source": [
    "# Анализ номинативных переменных"
   ]
  },
  {
   "cell_type": "code",
   "execution_count": 25,
   "metadata": {},
   "outputs": [
    {
     "data": {
      "image/png": "[encoded data removed]",
      "text/plain": [
       "<Figure size 1008x288 with 1 Axes>"
      ]
     },
     "metadata": {
      "needs_background": "light"
     },
     "output_type": "display_data"
    },
    {
     "data": {
      "image/png": "[encoded data removed]",
      "text/plain": [
       "<Figure size 1008x288 with 1 Axes>"
      ]
     },
     "metadata": {
      "needs_background": "light"
     },
     "output_type": "display_data"
    },
    {
     "data": {
      "image/png": "[encoded data removed]",
      "text/plain": [
       "<Figure size 1008x288 with 1 Axes>"
      ]
     },
     "metadata": {
      "needs_background": "light"
     },
     "output_type": "display_data"
    },
    {
     "data": {
      "image/png": "[encoded data removed]",
      "text/plain": [
       "<Figure size 1008x288 with 1 Axes>"
      ]
     },
     "metadata": {
      "needs_background": "light"
     },
     "output_type": "display_data"
    },
    {
     "data": {
      "image/png": "[encoded data removed]",
      "text/plain": [
       "<Figure size 1008x288 with 1 Axes>"
      ]
     },
     "metadata": {
      "needs_background": "light"
     },
     "output_type": "display_data"
    },
    {
     "data": {
      "image/png": "[encoded data removed]",
      "text/plain": [
       "<Figure size 1008x288 with 1 Axes>"
      ]
     },
     "metadata": {
      "needs_background": "light"
     },
     "output_type": "display_data"
    },
    {
     "data": {
      "image/png": "[encoded data removed]",
      "text/plain": [
       "<Figure size 1008x288 with 1 Axes>"
      ]
     },
     "metadata": {
      "needs_background": "light"
     },
     "output_type": "display_data"
    },
    {
     "data": {
      "image/png": "[encoded data removed]",
      "text/plain": [
       "<Figure size 1008x288 with 1 Axes>"
      ]
     },
     "metadata": {
      "needs_background": "light"
     },
     "output_type": "display_data"
    },
    {
     "data": {
      "image/png": "[encoded data removed]",
      "text/plain": [
       "<Figure size 1008x288 with 1 Axes>"
      ]
     },
     "metadata": {
      "needs_background": "light"
     },
     "output_type": "display_data"
    },
    {
     "data": {
      "image/png": "[encoded data removed]",
      "text/plain": [
       "<Figure size 1008x288 with 1 Axes>"
      ]
     },
     "metadata": {
      "needs_background": "light"
     },
     "output_type": "display_data"
    },
    {
     "data": {
      "image/png": "[encoded data removed]",
      "text/plain": [
       "<Figure size 1008x288 with 1 Axes>"
      ]
     },
     "metadata": {
      "needs_background": "light"
     },
     "output_type": "display_data"
    },
    {
     "data": {
      "image/png": "[encoded data removed]",
      "text/plain": [
       "<Figure size 1008x288 with 1 Axes>"
      ]
     },
     "metadata": {
      "needs_background": "light"
     },
     "output_type": "display_data"
    },
    {
     "data": {
      "image/png": "[encoded data removed]",
      "text/plain": [
       "<Figure size 1008x288 with 1 Axes>"
      ]
     },
     "metadata": {
      "needs_background": "light"
     },
     "output_type": "display_data"
    },
    {
     "data": {
      "image/png": "[encoded data removed]",
      "text/plain": [
       "<Figure size 1008x288 with 1 Axes>"
      ]
     },
     "metadata": {
      "needs_background": "light"
     },
     "output_type": "display_data"
    },
    {
     "data": {
      "image/png": "[encoded data removed]",
      "text/plain": [
       "<Figure size 1008x288 with 1 Axes>"
      ]
     },
     "metadata": {
      "needs_background": "light"
     },
     "output_type": "display_data"
    },
    {
     "data": {
      "image/png": "[encoded data removed]",
      "text/plain": [
       "<Figure size 1008x288 with 1 Axes>"
      ]
     },
     "metadata": {
      "needs_background": "light"
     },
     "output_type": "display_data"
    },
    {
     "data": {
      "image/png": "[encoded data removed]",
      "text/plain": [
       "<Figure size 1008x288 with 1 Axes>"
      ]
     },
     "metadata": {
      "needs_background": "light"
     },
     "output_type": "display_data"
    }
   ],
   "source": [
    "\n",
    "for col in [\n",
    "    'school', \n",
    "    'sex', \n",
    "    'address', \n",
    "    'famsize', \n",
    "    'Pstatus',\n",
    "    'Mjob',\n",
    "    'Fjob',\n",
    "    'reason',\n",
    "    'guardian',\n",
    "    'schoolsup',\n",
    "    'famsup',\n",
    "    'paid',\n",
    "    'activities',\n",
    "    'nursery',\n",
    "    'higher',\n",
    "    'internet',\n",
    "    'romantic']:\n",
    "    get_boxplot(data, col)"
   ]
  },
  {
   "cell_type": "code",
   "execution_count": 26,
   "metadata": {},
   "outputs": [
    {
     "data": {
      "image/png": "[encoded data removed]",
      "text/plain": [
       "<Figure size 1008x288 with 1 Axes>"
      ]
     },
     "metadata": {
      "needs_background": "light"
     },
     "output_type": "display_data"
    }
   ],
   "source": [
    "# Школа\n",
    "\n",
    "get_boxplot(data, 'school')"
   ]
  },
  {
   "cell_type": "markdown",
   "metadata": {},
   "source": [
    "Подавляющее большинство детей - из школы GP, но не похоже что данные сильно отличаются, так что уровень преподавания математики в обоих школах - схожий.\n",
    "\n",
    "В данной выборке этот параметр не влияет на балл."
   ]
  },
  {
   "cell_type": "code",
   "execution_count": 27,
   "metadata": {},
   "outputs": [
    {
     "data": {
      "image/png": "[encoded data removed]",
      "text/plain": [
       "<Figure size 1008x288 with 1 Axes>"
      ]
     },
     "metadata": {
      "needs_background": "light"
     },
     "output_type": "display_data"
    }
   ],
   "source": [
    "# Пол\n",
    "\n",
    "get_boxplot(data, 'sex')"
   ]
  },
  {
   "cell_type": "code",
   "execution_count": 28,
   "metadata": {},
   "outputs": [
    {
     "data": {
      "text/html": [
       "<div>\n",
       "<style scoped>\n",
       "    .dataframe tbody tr th:only-of-type {\n",
       "        vertical-align: middle;\n",
       "    }\n",
       "\n",
       "    .dataframe tbody tr th {\n",
       "        vertical-align: top;\n",
       "    }\n",
       "\n",
       "    .dataframe thead th {\n",
       "        text-align: right;\n",
       "    }\n",
       "</style>\n",
       "<table border=\"1\" class=\"dataframe\">\n",
       "  <thead>\n",
       "    <tr style=\"text-align: right;\">\n",
       "      <th></th>\n",
       "      <th>age</th>\n",
       "      <th>Medu</th>\n",
       "      <th>Fedu</th>\n",
       "      <th>traveltime</th>\n",
       "      <th>studytime</th>\n",
       "      <th>failures</th>\n",
       "      <th>famrel</th>\n",
       "      <th>freetime</th>\n",
       "      <th>goout</th>\n",
       "      <th>health</th>\n",
       "      <th>absences</th>\n",
       "      <th>score</th>\n",
       "    </tr>\n",
       "    <tr>\n",
       "      <th>sex</th>\n",
       "      <th></th>\n",
       "      <th></th>\n",
       "      <th></th>\n",
       "      <th></th>\n",
       "      <th></th>\n",
       "      <th></th>\n",
       "      <th></th>\n",
       "      <th></th>\n",
       "      <th></th>\n",
       "      <th></th>\n",
       "      <th></th>\n",
       "      <th></th>\n",
       "    </tr>\n",
       "  </thead>\n",
       "  <tbody>\n",
       "    <tr>\n",
       "      <th>F</th>\n",
       "      <td>16.633540</td>\n",
       "      <td>2.743793</td>\n",
       "      <td>2.521665</td>\n",
       "      <td>1.383275</td>\n",
       "      <td>2.305834</td>\n",
       "      <td>0.222128</td>\n",
       "      <td>3.928675</td>\n",
       "      <td>3.072874</td>\n",
       "      <td>3.068180</td>\n",
       "      <td>3.355412</td>\n",
       "      <td>4.857143</td>\n",
       "      <td>55.900621</td>\n",
       "    </tr>\n",
       "    <tr>\n",
       "      <th>M</th>\n",
       "      <td>16.428571</td>\n",
       "      <td>2.887992</td>\n",
       "      <td>2.532351</td>\n",
       "      <td>1.470067</td>\n",
       "      <td>1.818570</td>\n",
       "      <td>0.241763</td>\n",
       "      <td>3.976753</td>\n",
       "      <td>3.431744</td>\n",
       "      <td>3.107068</td>\n",
       "      <td>3.713987</td>\n",
       "      <td>4.941558</td>\n",
       "      <td>59.740260</td>\n",
       "    </tr>\n",
       "  </tbody>\n",
       "</table>\n",
       "</div>"
      ],
      "text/plain": [
       "           age      Medu      Fedu  traveltime  studytime  failures    famrel  \\\n",
       "sex                                                                             \n",
       "F    16.633540  2.743793  2.521665    1.383275   2.305834  0.222128  3.928675   \n",
       "M    16.428571  2.887992  2.532351    1.470067   1.818570  0.241763  3.976753   \n",
       "\n",
       "     freetime     goout    health  absences      score  \n",
       "sex                                                     \n",
       "F    3.072874  3.068180  3.355412  4.857143  55.900621  \n",
       "M    3.431744  3.107068  3.713987  4.941558  59.740260  "
      ]
     },
     "execution_count": 28,
     "metadata": {},
     "output_type": "execute_result"
    }
   ],
   "source": [
    "data_sex.mean()"
   ]
  },
  {
   "cell_type": "code",
   "execution_count": 29,
   "metadata": {
    "scrolled": true
   },
   "outputs": [
    {
     "data": {
      "text/html": [
       "<div>\n",
       "<style scoped>\n",
       "    .dataframe tbody tr th:only-of-type {\n",
       "        vertical-align: middle;\n",
       "    }\n",
       "\n",
       "    .dataframe tbody tr th {\n",
       "        vertical-align: top;\n",
       "    }\n",
       "\n",
       "    .dataframe thead th {\n",
       "        text-align: right;\n",
       "    }\n",
       "</style>\n",
       "<table border=\"1\" class=\"dataframe\">\n",
       "  <thead>\n",
       "    <tr style=\"text-align: right;\">\n",
       "      <th></th>\n",
       "      <th>age</th>\n",
       "      <th>Medu</th>\n",
       "      <th>Fedu</th>\n",
       "      <th>traveltime</th>\n",
       "      <th>studytime</th>\n",
       "      <th>failures</th>\n",
       "      <th>famrel</th>\n",
       "      <th>freetime</th>\n",
       "      <th>goout</th>\n",
       "      <th>health</th>\n",
       "      <th>absences</th>\n",
       "      <th>score</th>\n",
       "    </tr>\n",
       "    <tr>\n",
       "      <th>sex</th>\n",
       "      <th></th>\n",
       "      <th></th>\n",
       "      <th></th>\n",
       "      <th></th>\n",
       "      <th></th>\n",
       "      <th></th>\n",
       "      <th></th>\n",
       "      <th></th>\n",
       "      <th></th>\n",
       "      <th></th>\n",
       "      <th></th>\n",
       "      <th></th>\n",
       "    </tr>\n",
       "  </thead>\n",
       "  <tbody>\n",
       "    <tr>\n",
       "      <th>F</th>\n",
       "      <td>0.045647</td>\n",
       "      <td>0.147261</td>\n",
       "      <td>0.074189</td>\n",
       "      <td>0.003755</td>\n",
       "      <td>0.238499</td>\n",
       "      <td>-0.190170</td>\n",
       "      <td>0.072814</td>\n",
       "      <td>-0.022317</td>\n",
       "      <td>-0.105091</td>\n",
       "      <td>-0.110044</td>\n",
       "      <td>-0.179973</td>\n",
       "      <td>1.0</td>\n",
       "    </tr>\n",
       "    <tr>\n",
       "      <th>M</th>\n",
       "      <td>-0.321813</td>\n",
       "      <td>0.209794</td>\n",
       "      <td>0.184408</td>\n",
       "      <td>-0.166863</td>\n",
       "      <td>0.131191</td>\n",
       "      <td>-0.338976</td>\n",
       "      <td>0.031795</td>\n",
       "      <td>-0.047067</td>\n",
       "      <td>-0.266984</td>\n",
       "      <td>-0.057824</td>\n",
       "      <td>-0.314879</td>\n",
       "      <td>1.0</td>\n",
       "    </tr>\n",
       "  </tbody>\n",
       "</table>\n",
       "</div>"
      ],
      "text/plain": [
       "          age      Medu      Fedu  traveltime  studytime  failures    famrel  \\\n",
       "sex                                                                            \n",
       "F    0.045647  0.147261  0.074189    0.003755   0.238499 -0.190170  0.072814   \n",
       "M   -0.321813  0.209794  0.184408   -0.166863   0.131191 -0.338976  0.031795   \n",
       "\n",
       "     freetime     goout    health  absences  score  \n",
       "sex                                                 \n",
       "F   -0.022317 -0.105091 -0.110044 -0.179973    1.0  \n",
       "M   -0.047067 -0.266984 -0.057824 -0.314879    1.0  "
      ]
     },
     "execution_count": 29,
     "metadata": {},
     "output_type": "execute_result"
    }
   ],
   "source": [
    "data_sex.corrwith(data.score)"
   ]
  },
  {
   "cell_type": "markdown",
   "metadata": {},
   "source": [
    "Пол - довольно важный параметр, оказывающий влияние как на балл, так и на другие параметры.\n",
    "\n",
    "У мальчиков есть предрасположенность к математике из-за лучшего использования левого полушария, но девочки навёрстывают за счёт усердия (они и занимаются больше, и у них studytime коррелирует с баллом сильнее)\n",
    "\n",
    "Мальчики с возрастом показывают худшие результаты, чем девочки. Это может быть связанно с тем, как у них проходит переходный возраст - они начинают чаще пропускать занятия и проводить больше времени на улице. \n",
    "\n",
    "Проблемные девочки не настолько плохи в математике (failures коррелирует с баллом меньше). Видимо потому что \"проблемы\" у девочек чаще появляются в самой школе, а не за её пределами.\n",
    "\n",
    "Интересно, что образование матери влияет на мальчиков вдвое сильнее, чем на девочек. Возможно, они более грамотные в воспитании и усмиряют бунтарный дух подростков."
   ]
  },
  {
   "cell_type": "code",
   "execution_count": 30,
   "metadata": {},
   "outputs": [
    {
     "data": {
      "image/png": "[encoded data removed]",
      "text/plain": [
       "<Figure size 1008x288 with 1 Axes>"
      ]
     },
     "metadata": {
      "needs_background": "light"
     },
     "output_type": "display_data"
    }
   ],
   "source": [
    "# Адрес\n",
    "\n",
    "get_boxplot(data, 'address')"
   ]
  },
  {
   "cell_type": "markdown",
   "metadata": {},
   "source": [
    "80% детей в выборке живут в городе, но 20% тех, что живут на земле - показывают немного худший результат.\n",
    "\n",
    "Скорей всего этот перевес обеспечивают дети, которые добираются до дома дольше и являются более гуляющими/проблемными."
   ]
  },
  {
   "cell_type": "code",
   "execution_count": 42,
   "metadata": {},
   "outputs": [
    {
     "data": {
      "text/plain": [
       "address\n",
       "R          1.790835\n",
       "U          1.323145\n",
       "unknown    1.443089\n",
       "Name: traveltime, dtype: float64"
      ]
     },
     "execution_count": 42,
     "metadata": {},
     "output_type": "execute_result"
    }
   ],
   "source": [
    "data.groupby(by=data.address).traveltime.mean()"
   ]
  },
  {
   "cell_type": "code",
   "execution_count": 43,
   "metadata": {},
   "outputs": [
    {
     "data": {
      "image/png": "[encoded data removed]",
      "text/plain": [
       "<Figure size 1008x288 with 1 Axes>"
      ]
     },
     "metadata": {
      "needs_background": "light"
     },
     "output_type": "display_data"
    }
   ],
   "source": [
    "# Размер семьи\n",
    "\n",
    "get_boxplot(data, 'famsize')"
   ]
  },
  {
   "cell_type": "code",
   "execution_count": 44,
   "metadata": {},
   "outputs": [
    {
     "ename": "NameError",
     "evalue": "name 'ttest_ind' is not defined",
     "output_type": "error",
     "traceback": [
      "\u001b[1;31m---------------------------------------------------------------------------\u001b[0m",
      "\u001b[1;31mNameError\u001b[0m                                 Traceback (most recent call last)",
      "\u001b[1;32m<ipython-input-44-756dd268845f>\u001b[0m in \u001b[0;36m<module>\u001b[1;34m\u001b[0m\n\u001b[1;32m----> 1\u001b[1;33m \u001b[0mget_stat_dif\u001b[0m\u001b[1;33m(\u001b[0m\u001b[0mdata\u001b[0m\u001b[1;33m,\u001b[0m \u001b[1;34m'famsize'\u001b[0m\u001b[1;33m)\u001b[0m\u001b[1;33m\u001b[0m\u001b[1;33m\u001b[0m\u001b[0m\n\u001b[0m",
      "\u001b[1;32m<ipython-input-2-48b32953bedc>\u001b[0m in \u001b[0;36mget_stat_dif\u001b[1;34m(df, column)\u001b[0m\n\u001b[0;32m     24\u001b[0m     \u001b[0mcombinations_all\u001b[0m \u001b[1;33m=\u001b[0m \u001b[0mlist\u001b[0m\u001b[1;33m(\u001b[0m\u001b[0mcombinations\u001b[0m\u001b[1;33m(\u001b[0m\u001b[0mcols\u001b[0m\u001b[1;33m,\u001b[0m \u001b[1;36m2\u001b[0m\u001b[1;33m)\u001b[0m\u001b[1;33m)\u001b[0m\u001b[1;33m\u001b[0m\u001b[1;33m\u001b[0m\u001b[0m\n\u001b[0;32m     25\u001b[0m     \u001b[1;32mfor\u001b[0m \u001b[0mcomb\u001b[0m \u001b[1;32min\u001b[0m \u001b[0mcombinations_all\u001b[0m\u001b[1;33m:\u001b[0m\u001b[1;33m\u001b[0m\u001b[1;33m\u001b[0m\u001b[0m\n\u001b[1;32m---> 26\u001b[1;33m         if ttest_ind(df.loc[df.loc[:, column] == comb[0], 'score'], \n\u001b[0m\u001b[0;32m     27\u001b[0m                         df.loc[df.loc[:, column] == comb[1], 'score']).pvalue \\\n\u001b[0;32m     28\u001b[0m             \u001b[1;33m<=\u001b[0m \u001b[1;36m0.05\u001b[0m\u001b[1;33m/\u001b[0m\u001b[0mlen\u001b[0m\u001b[1;33m(\u001b[0m\u001b[0mcombinations_all\u001b[0m\u001b[1;33m)\u001b[0m\u001b[1;33m:\u001b[0m \u001b[1;31m# Учли поправку Бонферони\u001b[0m\u001b[1;33m\u001b[0m\u001b[1;33m\u001b[0m\u001b[0m\n",
      "\u001b[1;31mNameError\u001b[0m: name 'ttest_ind' is not defined"
     ]
    }
   ],
   "source": [
    "get_stat_dif(data, 'famsize')"
   ]
  },
  {
   "cell_type": "code",
   "execution_count": null,
   "metadata": {},
   "outputs": [],
   "source": []
  },
  {
   "cell_type": "code",
   "execution_count": null,
   "metadata": {},
   "outputs": [],
   "source": []
  },
  {
   "cell_type": "code",
   "execution_count": null,
   "metadata": {},
   "outputs": [],
   "source": []
  },
  {
   "cell_type": "code",
   "execution_count": null,
   "metadata": {},
   "outputs": [],
   "source": []
  },
  {
   "cell_type": "code",
   "execution_count": null,
   "metadata": {},
   "outputs": [],
   "source": []
  },
  {
   "cell_type": "code",
   "execution_count": null,
   "metadata": {},
   "outputs": [],
   "source": []
  },
  {
   "cell_type": "code",
   "execution_count": null,
   "metadata": {},
   "outputs": [],
   "source": []
  },
  {
   "cell_type": "code",
   "execution_count": null,
   "metadata": {},
   "outputs": [],
   "source": []
  },
  {
   "cell_type": "code",
   "execution_count": null,
   "metadata": {},
   "outputs": [],
   "source": []
  },
  {
   "cell_type": "markdown",
   "metadata": {},
   "source": [
    "# Выводы"
   ]
  },
  {
   "cell_type": "code",
   "execution_count": null,
   "metadata": {},
   "outputs": [],
   "source": []
  }
 ],
 "metadata": {
  "kernelspec": {
   "display_name": "Python 3",
   "language": "python",
   "name": "python3"
  },
  "language_info": {
   "codemirror_mode": {
    "name": "ipython",
    "version": 3
   },
   "file_extension": ".py",
   "mimetype": "text/x-python",
   "name": "python",
   "nbconvert_exporter": "python",
   "pygments_lexer": "ipython3",
   "version": "3.8.3"
  }
 },
 "nbformat": 4,
 "nbformat_minor": 2
}
