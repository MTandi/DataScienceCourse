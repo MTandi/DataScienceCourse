{
 "cells": [
  {
   "cell_type": "code",
   "execution_count": 1,
   "metadata": {
    "_cell_guid": "b1076dfc-b9ad-4769-8c92-a6c4dae69d19",
    "_uuid": "8f2839f25d086af736a60e9eeb907d3b93b6e0e5",
    "colab": {},
    "colab_type": "code",
    "id": "U2D2gTdJVp90"
   },
   "outputs": [],
   "source": [
    "import numpy as np\n",
    "import pandas as pd\n",
    "import calendar as cld\n",
    "import itertools as it\n",
    "from collections import Counter"
   ]
  },
  {
   "cell_type": "code",
   "execution_count": 2,
   "metadata": {
    "_cell_guid": "79c7e3d0-c299-4dcb-8224-4455121ee9b0",
    "_uuid": "d629ff2d2480ee46fbb7e2d37f6b5fab8052498a",
    "colab": {},
    "colab_type": "code",
    "id": "oyGfxL3eVp9-"
   },
   "outputs": [
    {
     "output_type": "execute_result",
     "data": {
      "text/plain": [
       "        imdb_id    budget    revenue    original_title  \\\n",
       "1008  tt1482459  70000000  348840316         The Lorax   \n",
       "99    tt2515034  40000000   10664749        The Gunman   \n",
       "68    tt2726560  34000000   63013281  The Longest Ride   \n",
       "1485  tt0443543  40000000   86915017   The Illusionist   \n",
       "756   tt1222817  80000000  169852759         Zookeeper   \n",
       "\n",
       "                                                   cast  \\\n",
       "1008  Zac Efron|Danny DeVito|Taylor Swift|Ed Helms|R...   \n",
       "99    Sean Penn|Jasmine Trinca|Javier Bardem|Ray Win...   \n",
       "68    Scott Eastwood|Britt Robertson|Lolita Davidovi...   \n",
       "1485  Edward Norton|Jessica Biel|Paul Giamatti|Rufus...   \n",
       "756   Kevin James|Rosario Dawson|Sylvester Stallone|...   \n",
       "\n",
       "                     director                                        tagline  \\\n",
       "1008  Chris Renaud|Kyle Balda              Meet The Original Force Of Nature   \n",
       "99               Pierre Morel                          Armed With the Truth.   \n",
       "68        George Tillman, Jr.  Two couples. Two love stories. One epic tale.   \n",
       "1485              Neil Burger                      Nothing Is What It Seems.   \n",
       "756              Frank Coraci                         Welcome to his jungle.   \n",
       "\n",
       "                                               overview  runtime  \\\n",
       "1008  A 12-year-old boy searches for the one thing t...       86   \n",
       "99    Eight years after fleeing the Congo following ...      115   \n",
       "68    The lives of a young couple intertwine with a ...      128   \n",
       "1485  With his eye on a lovely aristocrat, a gifted ...      110   \n",
       "756   A comedy about a zookeeper who might be great ...      102   \n",
       "\n",
       "                              genres  \\\n",
       "1008                Animation|Family   \n",
       "99                Action|Drama|Crime   \n",
       "68                     Romance|Drama   \n",
       "1485  Fantasy|Drama|Thriller|Romance   \n",
       "756            Comedy|Romance|Family   \n",
       "\n",
       "                                   production_companies release_date  \\\n",
       "1008      Universal Pictures|Illumination Entertainment     3/1/2012   \n",
       "99    StudioCanal|Silver Pictures|TF1 Films Producti...    2/16/2015   \n",
       "68          Fox 2000 Pictures|Temple Hill Entertainment     4/9/2015   \n",
       "1485  Michael London Productions|Stillking Films|Bob...    8/18/2006   \n",
       "756   Columbia Pictures|Happy Madison Productions|So...     7/6/2011   \n",
       "\n",
       "      vote_average  release_year  \n",
       "1008           6.3          2012  \n",
       "99             5.6          2015  \n",
       "68             7.3          2015  \n",
       "1485           7.0          2006  \n",
       "756            5.4          2011  "
      ],
      "text/html": "<div>\n<style scoped>\n    .dataframe tbody tr th:only-of-type {\n        vertical-align: middle;\n    }\n\n    .dataframe tbody tr th {\n        vertical-align: top;\n    }\n\n    .dataframe thead th {\n        text-align: right;\n    }\n</style>\n<table border=\"1\" class=\"dataframe\">\n  <thead>\n    <tr style=\"text-align: right;\">\n      <th></th>\n      <th>imdb_id</th>\n      <th>budget</th>\n      <th>revenue</th>\n      <th>original_title</th>\n      <th>cast</th>\n      <th>director</th>\n      <th>tagline</th>\n      <th>overview</th>\n      <th>runtime</th>\n      <th>genres</th>\n      <th>production_companies</th>\n      <th>release_date</th>\n      <th>vote_average</th>\n      <th>release_year</th>\n    </tr>\n  </thead>\n  <tbody>\n    <tr>\n      <th>1008</th>\n      <td>tt1482459</td>\n      <td>70000000</td>\n      <td>348840316</td>\n      <td>The Lorax</td>\n      <td>Zac Efron|Danny DeVito|Taylor Swift|Ed Helms|R...</td>\n      <td>Chris Renaud|Kyle Balda</td>\n      <td>Meet The Original Force Of Nature</td>\n      <td>A 12-year-old boy searches for the one thing t...</td>\n      <td>86</td>\n      <td>Animation|Family</td>\n      <td>Universal Pictures|Illumination Entertainment</td>\n      <td>3/1/2012</td>\n      <td>6.3</td>\n      <td>2012</td>\n    </tr>\n    <tr>\n      <th>99</th>\n      <td>tt2515034</td>\n      <td>40000000</td>\n      <td>10664749</td>\n      <td>The Gunman</td>\n      <td>Sean Penn|Jasmine Trinca|Javier Bardem|Ray Win...</td>\n      <td>Pierre Morel</td>\n      <td>Armed With the Truth.</td>\n      <td>Eight years after fleeing the Congo following ...</td>\n      <td>115</td>\n      <td>Action|Drama|Crime</td>\n      <td>StudioCanal|Silver Pictures|TF1 Films Producti...</td>\n      <td>2/16/2015</td>\n      <td>5.6</td>\n      <td>2015</td>\n    </tr>\n    <tr>\n      <th>68</th>\n      <td>tt2726560</td>\n      <td>34000000</td>\n      <td>63013281</td>\n      <td>The Longest Ride</td>\n      <td>Scott Eastwood|Britt Robertson|Lolita Davidovi...</td>\n      <td>George Tillman, Jr.</td>\n      <td>Two couples. Two love stories. One epic tale.</td>\n      <td>The lives of a young couple intertwine with a ...</td>\n      <td>128</td>\n      <td>Romance|Drama</td>\n      <td>Fox 2000 Pictures|Temple Hill Entertainment</td>\n      <td>4/9/2015</td>\n      <td>7.3</td>\n      <td>2015</td>\n    </tr>\n    <tr>\n      <th>1485</th>\n      <td>tt0443543</td>\n      <td>40000000</td>\n      <td>86915017</td>\n      <td>The Illusionist</td>\n      <td>Edward Norton|Jessica Biel|Paul Giamatti|Rufus...</td>\n      <td>Neil Burger</td>\n      <td>Nothing Is What It Seems.</td>\n      <td>With his eye on a lovely aristocrat, a gifted ...</td>\n      <td>110</td>\n      <td>Fantasy|Drama|Thriller|Romance</td>\n      <td>Michael London Productions|Stillking Films|Bob...</td>\n      <td>8/18/2006</td>\n      <td>7.0</td>\n      <td>2006</td>\n    </tr>\n    <tr>\n      <th>756</th>\n      <td>tt1222817</td>\n      <td>80000000</td>\n      <td>169852759</td>\n      <td>Zookeeper</td>\n      <td>Kevin James|Rosario Dawson|Sylvester Stallone|...</td>\n      <td>Frank Coraci</td>\n      <td>Welcome to his jungle.</td>\n      <td>A comedy about a zookeeper who might be great ...</td>\n      <td>102</td>\n      <td>Comedy|Romance|Family</td>\n      <td>Columbia Pictures|Happy Madison Productions|So...</td>\n      <td>7/6/2011</td>\n      <td>5.4</td>\n      <td>2011</td>\n    </tr>\n  </tbody>\n</table>\n</div>"
     },
     "metadata": {},
     "execution_count": 2
    }
   ],
   "source": [
    "data = pd.read_csv('movie_bd_v5.csv')\n",
    "data.sample(5)"
   ]
  },
  {
   "cell_type": "code",
   "execution_count": 3,
   "metadata": {
    "colab": {},
    "colab_type": "code",
    "id": "CoYUnagMVp-C"
   },
   "outputs": [
    {
     "output_type": "execute_result",
     "data": {
      "text/plain": [
       "             budget       revenue      runtime  vote_average  release_year\n",
       "count  1.889000e+03  1.889000e+03  1889.000000   1889.000000   1889.000000\n",
       "mean   5.431083e+07  1.553653e+08   109.658549      6.140762   2007.860773\n",
       "std    4.858721e+07  2.146698e+08    18.017041      0.764763      4.468841\n",
       "min    5.000000e+06  2.033165e+06    63.000000      3.300000   2000.000000\n",
       "25%    2.000000e+07  3.456058e+07    97.000000      5.600000   2004.000000\n",
       "50%    3.800000e+07  8.361541e+07   107.000000      6.100000   2008.000000\n",
       "75%    7.200000e+07  1.782626e+08   120.000000      6.600000   2012.000000\n",
       "max    3.800000e+08  2.781506e+09   214.000000      8.100000   2015.000000"
      ],
      "text/html": "<div>\n<style scoped>\n    .dataframe tbody tr th:only-of-type {\n        vertical-align: middle;\n    }\n\n    .dataframe tbody tr th {\n        vertical-align: top;\n    }\n\n    .dataframe thead th {\n        text-align: right;\n    }\n</style>\n<table border=\"1\" class=\"dataframe\">\n  <thead>\n    <tr style=\"text-align: right;\">\n      <th></th>\n      <th>budget</th>\n      <th>revenue</th>\n      <th>runtime</th>\n      <th>vote_average</th>\n      <th>release_year</th>\n    </tr>\n  </thead>\n  <tbody>\n    <tr>\n      <th>count</th>\n      <td>1.889000e+03</td>\n      <td>1.889000e+03</td>\n      <td>1889.000000</td>\n      <td>1889.000000</td>\n      <td>1889.000000</td>\n    </tr>\n    <tr>\n      <th>mean</th>\n      <td>5.431083e+07</td>\n      <td>1.553653e+08</td>\n      <td>109.658549</td>\n      <td>6.140762</td>\n      <td>2007.860773</td>\n    </tr>\n    <tr>\n      <th>std</th>\n      <td>4.858721e+07</td>\n      <td>2.146698e+08</td>\n      <td>18.017041</td>\n      <td>0.764763</td>\n      <td>4.468841</td>\n    </tr>\n    <tr>\n      <th>min</th>\n      <td>5.000000e+06</td>\n      <td>2.033165e+06</td>\n      <td>63.000000</td>\n      <td>3.300000</td>\n      <td>2000.000000</td>\n    </tr>\n    <tr>\n      <th>25%</th>\n      <td>2.000000e+07</td>\n      <td>3.456058e+07</td>\n      <td>97.000000</td>\n      <td>5.600000</td>\n      <td>2004.000000</td>\n    </tr>\n    <tr>\n      <th>50%</th>\n      <td>3.800000e+07</td>\n      <td>8.361541e+07</td>\n      <td>107.000000</td>\n      <td>6.100000</td>\n      <td>2008.000000</td>\n    </tr>\n    <tr>\n      <th>75%</th>\n      <td>7.200000e+07</td>\n      <td>1.782626e+08</td>\n      <td>120.000000</td>\n      <td>6.600000</td>\n      <td>2012.000000</td>\n    </tr>\n    <tr>\n      <th>max</th>\n      <td>3.800000e+08</td>\n      <td>2.781506e+09</td>\n      <td>214.000000</td>\n      <td>8.100000</td>\n      <td>2015.000000</td>\n    </tr>\n  </tbody>\n</table>\n</div>"
     },
     "metadata": {},
     "execution_count": 3
    }
   ],
   "source": [
    "data.describe()"
   ]
  },
  {
   "cell_type": "markdown",
   "metadata": {
    "colab_type": "text",
    "id": "DTIt7ezGVp-G"
   },
   "source": [
    "# Предобработка"
   ]
  },
  {
   "cell_type": "code",
   "execution_count": 4,
   "metadata": {
    "colab": {},
    "colab_type": "code",
    "id": "jNb40DwKVp-H"
   },
   "outputs": [
    {
     "output_type": "execute_result",
     "data": {
      "text/plain": [
       "     imdb_id     budget     revenue      original_title  \\\n",
       "0  tt0369610  150000000  1513528810      Jurassic World   \n",
       "1  tt1392190  150000000   378436354  Mad Max: Fury Road   \n",
       "2  tt2908446  110000000   295238201           Insurgent   \n",
       "\n",
       "                                                cast          director  \\\n",
       "0  Chris Pratt|Bryce Dallas Howard|Irrfan Khan|Vi...   Colin Trevorrow   \n",
       "1  Tom Hardy|Charlize Theron|Hugh Keays-Byrne|Nic...     George Miller   \n",
       "2  Shailene Woodley|Theo James|Kate Winslet|Ansel...  Robert Schwentke   \n",
       "\n",
       "                      tagline  \\\n",
       "0           The park is open.   \n",
       "1          What a Lovely Day.   \n",
       "2  One Choice Can Destroy You   \n",
       "\n",
       "                                            overview  runtime  \\\n",
       "0  Twenty-two years after the events of Jurassic ...      124   \n",
       "1  An apocalyptic story set in the furthest reach...      120   \n",
       "2  Beatrice Prior must confront her inner demons ...      119   \n",
       "\n",
       "                                      genres  \\\n",
       "0  Action|Adventure|Science Fiction|Thriller   \n",
       "1  Action|Adventure|Science Fiction|Thriller   \n",
       "2         Adventure|Science Fiction|Thriller   \n",
       "\n",
       "                                production_companies release_date  \\\n",
       "0  Universal Studios|Amblin Entertainment|Legenda...     6/9/2015   \n",
       "1  Village Roadshow Pictures|Kennedy Miller Produ...    5/13/2015   \n",
       "2  Summit Entertainment|Mandeville Films|Red Wago...    3/18/2015   \n",
       "\n",
       "   vote_average  release_year      profit  release_month  \n",
       "0           6.5          2015  1363528810              6  \n",
       "1           7.1          2015   228436354              5  \n",
       "2           6.3          2015   185238201              3  "
      ],
      "text/html": "<div>\n<style scoped>\n    .dataframe tbody tr th:only-of-type {\n        vertical-align: middle;\n    }\n\n    .dataframe tbody tr th {\n        vertical-align: top;\n    }\n\n    .dataframe thead th {\n        text-align: right;\n    }\n</style>\n<table border=\"1\" class=\"dataframe\">\n  <thead>\n    <tr style=\"text-align: right;\">\n      <th></th>\n      <th>imdb_id</th>\n      <th>budget</th>\n      <th>revenue</th>\n      <th>original_title</th>\n      <th>cast</th>\n      <th>director</th>\n      <th>tagline</th>\n      <th>overview</th>\n      <th>runtime</th>\n      <th>genres</th>\n      <th>production_companies</th>\n      <th>release_date</th>\n      <th>vote_average</th>\n      <th>release_year</th>\n      <th>profit</th>\n      <th>release_month</th>\n    </tr>\n  </thead>\n  <tbody>\n    <tr>\n      <th>0</th>\n      <td>tt0369610</td>\n      <td>150000000</td>\n      <td>1513528810</td>\n      <td>Jurassic World</td>\n      <td>Chris Pratt|Bryce Dallas Howard|Irrfan Khan|Vi...</td>\n      <td>Colin Trevorrow</td>\n      <td>The park is open.</td>\n      <td>Twenty-two years after the events of Jurassic ...</td>\n      <td>124</td>\n      <td>Action|Adventure|Science Fiction|Thriller</td>\n      <td>Universal Studios|Amblin Entertainment|Legenda...</td>\n      <td>6/9/2015</td>\n      <td>6.5</td>\n      <td>2015</td>\n      <td>1363528810</td>\n      <td>6</td>\n    </tr>\n    <tr>\n      <th>1</th>\n      <td>tt1392190</td>\n      <td>150000000</td>\n      <td>378436354</td>\n      <td>Mad Max: Fury Road</td>\n      <td>Tom Hardy|Charlize Theron|Hugh Keays-Byrne|Nic...</td>\n      <td>George Miller</td>\n      <td>What a Lovely Day.</td>\n      <td>An apocalyptic story set in the furthest reach...</td>\n      <td>120</td>\n      <td>Action|Adventure|Science Fiction|Thriller</td>\n      <td>Village Roadshow Pictures|Kennedy Miller Produ...</td>\n      <td>5/13/2015</td>\n      <td>7.1</td>\n      <td>2015</td>\n      <td>228436354</td>\n      <td>5</td>\n    </tr>\n    <tr>\n      <th>2</th>\n      <td>tt2908446</td>\n      <td>110000000</td>\n      <td>295238201</td>\n      <td>Insurgent</td>\n      <td>Shailene Woodley|Theo James|Kate Winslet|Ansel...</td>\n      <td>Robert Schwentke</td>\n      <td>One Choice Can Destroy You</td>\n      <td>Beatrice Prior must confront her inner demons ...</td>\n      <td>119</td>\n      <td>Adventure|Science Fiction|Thriller</td>\n      <td>Summit Entertainment|Mandeville Films|Red Wago...</td>\n      <td>3/18/2015</td>\n      <td>6.3</td>\n      <td>2015</td>\n      <td>185238201</td>\n      <td>3</td>\n    </tr>\n  </tbody>\n</table>\n</div>"
     },
     "metadata": {},
     "execution_count": 4
    }
   ],
   "source": [
    "answers = {} # создадим словарь для ответов\n",
    "\n",
    "# тут другие ваши предобработки колонок например:\n",
    "\n",
    "#the time given in the dataset is in string format.\n",
    "#So we need to change this in datetime format\n",
    "# ...\n",
    "\n",
    "# прибыль\n",
    "data['profit'] = data['revenue'] - data['budget']\n",
    "\n",
    "# месяц выхода\n",
    "data['release_month'] = pd.DatetimeIndex(data['release_date']).month\n",
    "\n",
    "# проверка\n",
    "data.head(3)"
   ]
  },
  {
   "cell_type": "code",
   "execution_count": 5,
   "metadata": {},
   "outputs": [],
   "source": [
    "# функция для форматирования ответов\n",
    "def nice(var):\n",
    "    return(var['original_title'] + ' (' + var['imdb_id'] + ')')"
   ]
  },
  {
   "cell_type": "markdown",
   "metadata": {
    "colab_type": "text",
    "id": "YxZaH-nPVp-L"
   },
   "source": [
    "# 1. У какого фильма из списка самый большой бюджет?"
   ]
  },
  {
   "cell_type": "markdown",
   "metadata": {
    "colab_type": "text",
    "id": "Nd-G5gX6Vp-M"
   },
   "source": [
    "Использовать варианты ответов в коде решения запрещено.    \n",
    "Вы думаете и в жизни у вас будут варианты ответов?)"
   ]
  },
  {
   "cell_type": "code",
   "execution_count": 6,
   "metadata": {
    "colab": {},
    "colab_type": "code",
    "id": "dZwb3m28Vp-S"
   },
   "outputs": [
    {
     "output_type": "stream",
     "name": "stdout",
     "text": [
      "Pirates of the Caribbean: On Stranger Tides (tt1298650)\n"
     ]
    }
   ],
   "source": [
    "# тут пишем ваш код для решения данного вопроса:\n",
    "answer = nice(data.iloc[data['budget'].argmax()])\n",
    "print(answer)\n",
    "answers['1'] = answer"
   ]
  },
  {
   "cell_type": "markdown",
   "metadata": {
    "colab_type": "text",
    "id": "FNRbbI3vVp-c"
   },
   "source": [
    "# 2. Какой из фильмов самый длительный (в минутах)?"
   ]
  },
  {
   "cell_type": "code",
   "execution_count": 7,
   "metadata": {
    "colab": {},
    "colab_type": "code",
    "id": "ot-VX2XrVp-g"
   },
   "outputs": [
    {
     "output_type": "stream",
     "name": "stdout",
     "text": [
      "Gods and Generals (tt0279111)\n"
     ]
    }
   ],
   "source": [
    "answer = nice(data.iloc[data['runtime'].argmax()])\n",
    "print(answer)\n",
    "answers['2'] = answer"
   ]
  },
  {
   "cell_type": "markdown",
   "metadata": {
    "colab_type": "text",
    "id": "bapLlpW8Vp-k"
   },
   "source": [
    "# 3. Какой из фильмов самый короткий (в минутах)?\n",
    "\n",
    "\n",
    "\n"
   ]
  },
  {
   "cell_type": "code",
   "execution_count": 8,
   "metadata": {
    "colab": {},
    "colab_type": "code",
    "id": "YBxaSHuAVp-l"
   },
   "outputs": [
    {
     "output_type": "stream",
     "name": "stdout",
     "text": [
      "Winnie the Pooh (tt1449283)\n"
     ]
    }
   ],
   "source": [
    "answer = nice(data.iloc[data['runtime'].argmin()])\n",
    "print(answer)\n",
    "answers['3'] = answer\n"
   ]
  },
  {
   "cell_type": "markdown",
   "metadata": {
    "colab_type": "text",
    "id": "TfQbxbfNVp-p"
   },
   "source": [
    "# 4. Какова средняя длительность фильмов?\n"
   ]
  },
  {
   "cell_type": "code",
   "execution_count": 9,
   "metadata": {
    "colab": {},
    "colab_type": "code",
    "id": "5K6dKZYVVp-q"
   },
   "outputs": [
    {
     "output_type": "stream",
     "name": "stdout",
     "text": [
      "109.6585494970884\n"
     ]
    }
   ],
   "source": [
    "answer = data['runtime'].mean()\n",
    "print(answer)\n",
    "answers['4'] = answer"
   ]
  },
  {
   "cell_type": "markdown",
   "metadata": {
    "colab_type": "text",
    "id": "r5TvbnT_Vp-u"
   },
   "source": [
    "# 5. Каково медианное значение длительности фильмов? "
   ]
  },
  {
   "cell_type": "code",
   "execution_count": 10,
   "metadata": {
    "colab": {},
    "colab_type": "code",
    "id": "iBROplKnVp-v"
   },
   "outputs": [
    {
     "output_type": "stream",
     "name": "stdout",
     "text": [
      "107.0\n"
     ]
    }
   ],
   "source": [
    "answer = data['runtime'].median()\n",
    "print(answer)\n",
    "answers['5'] = answer"
   ]
  },
  {
   "cell_type": "markdown",
   "metadata": {
    "colab_type": "text",
    "id": "39P-deDSVp-y"
   },
   "source": [
    "# 6. Какой самый прибыльный фильм?\n",
    "#### Внимание! Здесь и далее под «прибылью» или «убытками» понимается разность между сборами и бюджетом фильма. (прибыль = сборы - бюджет) в нашем датасете это будет (profit = revenue - budget) "
   ]
  },
  {
   "cell_type": "code",
   "execution_count": 11,
   "metadata": {
    "colab": {},
    "colab_type": "code",
    "id": "UYZh4T9WVp-y"
   },
   "outputs": [
    {
     "output_type": "stream",
     "name": "stdout",
     "text": [
      "Avatar (tt0499549)\n"
     ]
    }
   ],
   "source": [
    "answer = nice(data.iloc[data['profit'].argmax()])\n",
    "print(answer)\n",
    "answers['6'] = answer"
   ]
  },
  {
   "cell_type": "markdown",
   "metadata": {
    "colab_type": "text",
    "id": "M99JmIX4Vp-2"
   },
   "source": [
    "# 7. Какой фильм самый убыточный? "
   ]
  },
  {
   "cell_type": "code",
   "execution_count": 12,
   "metadata": {
    "colab": {},
    "colab_type": "code",
    "id": "w-D2m4XPVp-3"
   },
   "outputs": [
    {
     "output_type": "stream",
     "name": "stdout",
     "text": [
      "The Lone Ranger (tt1210819)\n"
     ]
    }
   ],
   "source": [
    "answer = nice(data.iloc[data['profit'].argmin()])\n",
    "print(answer)\n",
    "answers['7'] = answer"
   ]
  },
  {
   "cell_type": "markdown",
   "metadata": {
    "colab_type": "text",
    "id": "wEOM5ERVVp-6"
   },
   "source": [
    "# 8. У скольких фильмов из датасета объем сборов оказался выше бюджета?"
   ]
  },
  {
   "cell_type": "code",
   "execution_count": 13,
   "metadata": {
    "colab": {},
    "colab_type": "code",
    "id": "y00_7HD6Vp-7"
   },
   "outputs": [
    {
     "output_type": "stream",
     "name": "stdout",
     "text": [
      "1478\n"
     ]
    }
   ],
   "source": [
    "answer = len(data[data.profit > 0])\n",
    "print(answer)\n",
    "answers['8'] = answer"
   ]
  },
  {
   "cell_type": "markdown",
   "metadata": {
    "colab_type": "text",
    "id": "xhpspA9KVp_A"
   },
   "source": [
    "# 9. Какой фильм оказался самым кассовым в 2008 году?"
   ]
  },
  {
   "cell_type": "code",
   "execution_count": 14,
   "metadata": {
    "colab": {},
    "colab_type": "code",
    "id": "MoUyQr9RVp_B"
   },
   "outputs": [
    {
     "output_type": "stream",
     "name": "stdout",
     "text": [
      "The Dark Knight (tt0468569)\n"
     ]
    }
   ],
   "source": [
    "fdata = data[data.release_year == 2008]\n",
    "answer = nice(fdata.iloc[fdata['revenue'].argmax()])\n",
    "print(answer)\n",
    "answers['9'] = answer"
   ]
  },
  {
   "cell_type": "markdown",
   "metadata": {
    "colab_type": "text",
    "id": "Zi4hDKidVp_F"
   },
   "source": [
    "# 10. Самый убыточный фильм за период с 2012 по 2014 г. (включительно)?\n"
   ]
  },
  {
   "cell_type": "code",
   "execution_count": 15,
   "metadata": {
    "colab": {},
    "colab_type": "code",
    "id": "XqyRmufJVp_F"
   },
   "outputs": [
    {
     "output_type": "stream",
     "name": "stdout",
     "text": [
      "The Lone Ranger (tt1210819)\n"
     ]
    }
   ],
   "source": [
    "fdata = data[(data.release_year > 2011) & (data.release_year < 2015)]\n",
    "answer = nice(fdata.iloc[fdata['profit'].argmin()])\n",
    "print(answer)\n",
    "answers['10'] = answer"
   ]
  },
  {
   "cell_type": "markdown",
   "metadata": {
    "colab_type": "text",
    "id": "EA7Sa9dkVp_I"
   },
   "source": [
    "# 11. Какого жанра фильмов больше всего?"
   ]
  },
  {
   "cell_type": "code",
   "execution_count": 16,
   "metadata": {
    "colab": {},
    "colab_type": "code",
    "id": "zsJAwJ8QVp_J"
   },
   "outputs": [
    {
     "output_type": "stream",
     "name": "stdout",
     "text": [
      "Drama\n"
     ]
    }
   ],
   "source": [
    "c = Counter()\n",
    "for string in data['genres']:\n",
    "    for genre in string.split('|'):\n",
    "        c[genre] += 1\n",
    "\n",
    "answer = c.most_common(1)[0][0]\n",
    "print(answer)\n",
    "answers['11'] = answer"
   ]
  },
  {
   "cell_type": "markdown",
   "metadata": {
    "colab_type": "text",
    "id": "T9_bPWpkVp_Q"
   },
   "source": [
    "# 12. Фильмы какого жанра чаще всего становятся прибыльными? "
   ]
  },
  {
   "cell_type": "code",
   "execution_count": 17,
   "metadata": {
    "colab": {},
    "colab_type": "code",
    "id": "Tmt8MaK1Vp_R"
   },
   "outputs": [
    {
     "output_type": "stream",
     "name": "stdout",
     "text": [
      "Drama\n"
     ]
    }
   ],
   "source": [
    "# В процентном или количественном соотношении?\n",
    "# В количественном:\n",
    "\n",
    "c = Counter()\n",
    "fdata = data[data.profit > 0]\n",
    "for string in fdata['genres']:\n",
    "    for genre in string.split('|'):\n",
    "        c[genre] += 1\n",
    "\n",
    "answer = c.most_common(1)[0][0]\n",
    "print(answer)\n",
    "answers['12'] = answer"
   ]
  },
  {
   "cell_type": "markdown",
   "metadata": {
    "colab_type": "text",
    "id": "0F23bgsDVp_U"
   },
   "source": [
    "# 13. У какого режиссера самые большие суммарные кассовые сборы?"
   ]
  },
  {
   "cell_type": "code",
   "execution_count": 18,
   "metadata": {
    "colab": {},
    "colab_type": "code",
    "id": "K6Z3J8ygVp_X",
    "tags": []
   },
   "outputs": [
    {
     "output_type": "stream",
     "name": "stdout",
     "text": [
      "Peter Jackson\n"
     ]
    }
   ],
   "source": [
    "c = Counter()\n",
    "for index, row in data.iterrows():\n",
    "    for director in row['director'].split('|'):\n",
    "        c[director] += row['revenue']\n",
    "\n",
    "answer = c.most_common(1)[0][0]\n",
    "print(answer)\n",
    "answers['13'] = answer"
   ]
  },
  {
   "cell_type": "markdown",
   "metadata": {
    "colab_type": "text",
    "id": "PsYC9FgRVp_a"
   },
   "source": [
    "# 14. Какой режисер снял больше всего фильмов в стиле Action?"
   ]
  },
  {
   "cell_type": "code",
   "execution_count": 19,
   "metadata": {
    "colab": {},
    "colab_type": "code",
    "id": "wd2M-wHeVp_b"
   },
   "outputs": [
    {
     "output_type": "stream",
     "name": "stdout",
     "text": [
      "Robert Rodriguez\n"
     ]
    }
   ],
   "source": [
    "c = Counter()\n",
    "for index, row in data.iterrows():\n",
    "    for director in row['director'].split('|'):\n",
    "        if 'Action' in row['genres'].split('|'):\n",
    "            c[director] += 1\n",
    "\n",
    "answer = c.most_common(1)[0][0]\n",
    "print(answer)\n",
    "answers['14'] = answer"
   ]
  },
  {
   "cell_type": "markdown",
   "metadata": {
    "colab_type": "text",
    "id": "PQ0KciD7Vp_f"
   },
   "source": [
    "# 15. Фильмы с каким актером принесли самые высокие кассовые сборы в 2012 году? "
   ]
  },
  {
   "cell_type": "code",
   "execution_count": 20,
   "metadata": {
    "colab": {},
    "colab_type": "code",
    "id": "aga62oeKVp_g"
   },
   "outputs": [
    {
     "output_type": "stream",
     "name": "stdout",
     "text": [
      "Chris Hemsworth\n"
     ]
    }
   ],
   "source": [
    "c = Counter()\n",
    "fdata = data[data.release_year == 2012]\n",
    "for index, row in fdata.iterrows():\n",
    "    for actor in row['cast'].split('|'):\n",
    "        c[actor] += row['revenue']\n",
    "\n",
    "answer = c.most_common(1)[0][0]\n",
    "print(answer)\n",
    "answers['15'] = answer"
   ]
  },
  {
   "cell_type": "markdown",
   "metadata": {
    "colab_type": "text",
    "id": "mWHyyL7QVp_j"
   },
   "source": [
    "# 16. Какой актер снялся в большем количестве высокобюджетных фильмов?"
   ]
  },
  {
   "cell_type": "code",
   "execution_count": 21,
   "metadata": {
    "colab": {},
    "colab_type": "code",
    "id": "qQtmHKTFVp_k"
   },
   "outputs": [
    {
     "output_type": "stream",
     "name": "stdout",
     "text": [
      "Matt Damon\n"
     ]
    }
   ],
   "source": [
    "c = Counter()\n",
    "fdata = data[data.budget > data.budget.mean()]\n",
    "for index, row in fdata.iterrows():\n",
    "    for actor in row['cast'].split('|'):\n",
    "        c[actor] += 1\n",
    "\n",
    "answer = c.most_common(1)[0][0]\n",
    "print(answer)\n",
    "answers['16'] = answer"
   ]
  },
  {
   "cell_type": "markdown",
   "metadata": {
    "colab_type": "text",
    "id": "NIh6AaW5Vp_n"
   },
   "source": [
    "# 17. В фильмах какого жанра больше всего снимался Nicolas Cage? "
   ]
  },
  {
   "cell_type": "code",
   "execution_count": 22,
   "metadata": {
    "colab": {},
    "colab_type": "code",
    "id": "H74SJDIBVp_n"
   },
   "outputs": [
    {
     "output_type": "stream",
     "name": "stdout",
     "text": [
      "Action\n"
     ]
    }
   ],
   "source": [
    "c = Counter()\n",
    "for index, row in data.iterrows():\n",
    "    for genre in row['genres'].split('|'):\n",
    "        if 'Nicolas Cage' in row['cast'].split('|'):\n",
    "            c[genre] += 1\n",
    "\n",
    "answer = c.most_common(1)[0][0]\n",
    "print(answer)\n",
    "answers['17'] = answer"
   ]
  },
  {
   "cell_type": "markdown",
   "metadata": {
    "colab_type": "text",
    "id": "RqOmPRfWVp_q"
   },
   "source": [
    "# 18. Самый убыточный фильм от Paramount Pictures"
   ]
  },
  {
   "cell_type": "code",
   "execution_count": 23,
   "metadata": {
    "colab": {},
    "colab_type": "code",
    "id": "9E_B0Y96Vp_r"
   },
   "outputs": [
    {
     "output_type": "stream",
     "name": "stdout",
     "text": [
      "K-19: The Widowmaker (tt0267626)\n"
     ]
    }
   ],
   "source": [
    "fdata = data[data['production_companies'].str.contains('Paramount Pictures')]\n",
    "answer = nice(fdata.iloc[fdata['profit'].argmin()])\n",
    "print(answer)\n",
    "answers['18'] = answer"
   ]
  },
  {
   "cell_type": "markdown",
   "metadata": {
    "colab_type": "text",
    "id": "vS8Ur6ddVp_u"
   },
   "source": [
    "# 19. Какой год стал самым успешным по суммарным кассовым сборам?"
   ]
  },
  {
   "cell_type": "code",
   "execution_count": 24,
   "metadata": {
    "colab": {},
    "colab_type": "code",
    "id": "Dnbt4GdIVp_v"
   },
   "outputs": [
    {
     "output_type": "stream",
     "name": "stdout",
     "text": [
      "2015\n"
     ]
    }
   ],
   "source": [
    "groups = data.groupby(['release_year'])['revenue'].sum().sort_values(ascending=False)\n",
    "answer = list(groups.keys())[0]\n",
    "print(answer)\n",
    "answers['19'] = answer"
   ]
  },
  {
   "cell_type": "markdown",
   "metadata": {
    "colab_type": "text",
    "id": "JAzJh4QAVp_z"
   },
   "source": [
    "# 20. Какой самый прибыльный год для студии Warner Bros?"
   ]
  },
  {
   "cell_type": "code",
   "execution_count": 25,
   "metadata": {
    "colab": {},
    "colab_type": "code",
    "id": "wgVu02DEVp_0"
   },
   "outputs": [
    {
     "output_type": "stream",
     "name": "stdout",
     "text": [
      "2014\n"
     ]
    }
   ],
   "source": [
    "fdata = data[data['production_companies'].str.contains('Warner Bros')]\n",
    "groups = fdata.groupby(['release_year'])['profit'].sum().sort_values(ascending=False)\n",
    "answer = list(groups.keys())[0]\n",
    "print(answer)\n",
    "answers['20'] = answer"
   ]
  },
  {
   "cell_type": "markdown",
   "metadata": {
    "colab_type": "text",
    "id": "8Im1S2HRVp_4"
   },
   "source": [
    "# 21. В каком месяце за все годы суммарно вышло больше всего фильмов?"
   ]
  },
  {
   "cell_type": "code",
   "execution_count": 26,
   "metadata": {},
   "outputs": [
    {
     "output_type": "stream",
     "name": "stdout",
     "text": [
      "September\n"
     ]
    }
   ],
   "source": [
    "groups = data.groupby(['release_month']).size().sort_values(ascending=False)\n",
    "answer = cld.month_name[next(iter(groups.keys()))]\n",
    "print(answer)\n",
    "answers['21'] = answer"
   ]
  },
  {
   "cell_type": "markdown",
   "metadata": {
    "colab_type": "text",
    "id": "uAJsZ_NeVp_7"
   },
   "source": [
    "# 22. Сколько суммарно вышло фильмов летом? (за июнь, июль, август)"
   ]
  },
  {
   "cell_type": "code",
   "execution_count": 27,
   "metadata": {
    "colab": {},
    "colab_type": "code",
    "id": "Aa-hEREoVp_8"
   },
   "outputs": [
    {
     "output_type": "stream",
     "name": "stdout",
     "text": [
      "450\n"
     ]
    }
   ],
   "source": [
    "groups = data.groupby(['release_month']).size()\n",
    "answer = groups[6] + groups[7] + groups[8]\n",
    "print(answer)\n",
    "answers['22'] = answer"
   ]
  },
  {
   "cell_type": "markdown",
   "metadata": {
    "colab_type": "text",
    "id": "G94ppOY1VqAA"
   },
   "source": [
    "# 23. Для какого режиссера зима – самое продуктивное время года? "
   ]
  },
  {
   "cell_type": "code",
   "execution_count": 28,
   "metadata": {
    "colab": {},
    "colab_type": "code",
    "id": "RhNTsamuVqAB"
   },
   "outputs": [
    {
     "output_type": "stream",
     "name": "stdout",
     "text": [
      "Peter Jackson\n"
     ]
    }
   ],
   "source": [
    "c = Counter()\n",
    "for index, row in data.iterrows():\n",
    "    for director in row['director'].split('|'):\n",
    "        if row['release_month'] in [1, 2, 12]:\n",
    "            c[director] += 1\n",
    "\n",
    "answer = c.most_common(1)[0][0]\n",
    "print(answer)\n",
    "answers['23'] = answer"
   ]
  },
  {
   "cell_type": "markdown",
   "metadata": {
    "colab_type": "text",
    "id": "RBo0JVjVVqAF"
   },
   "source": [
    "# 24. Какая студия дает самые длинные названия своим фильмам по количеству символов?"
   ]
  },
  {
   "cell_type": "code",
   "execution_count": 29,
   "metadata": {
    "colab": {},
    "colab_type": "code",
    "id": "QRGS8L0iVqAG",
    "tags": []
   },
   "outputs": [
    {
     "output_type": "stream",
     "name": "stdout",
     "text": [
      "Universal Pictures\n"
     ]
    }
   ],
   "source": [
    "# У какой студии больше всего букв в названиях фильмов суммарно? Или у какой студии самое длинное название фильма? Или больше всего фильмов с длиной названия выше среднего?\n",
    "# Больше всего фильмов с длиной названия выше среднего:\n",
    "mean_length = data['original_title'].str.len().mean()\n",
    "c = Counter()\n",
    "for index, row in data.iterrows():\n",
    "    for company in row['production_companies'].split('|'):\n",
    "        c[company] += int(len(row['original_title']) > mean_length)\n",
    "\n",
    "answer = c.most_common(1)[0][0]\n",
    "print(answer)\n",
    "answers['24'] = answer\n",
    "# Оказалось неверно"
   ]
  },
  {
   "cell_type": "code",
   "execution_count": 30,
   "metadata": {},
   "outputs": [],
   "source": [
    "# разбиваем компании на массив\n",
    "data['production_companies'] = data['production_companies'].str.split('|')"
   ]
  },
  {
   "cell_type": "code",
   "execution_count": 31,
   "metadata": {},
   "outputs": [
    {
     "output_type": "stream",
     "name": "stdout",
     "text": [
      "Four By Two Productions\n"
     ]
    }
   ],
   "source": [
    "# Вариант 2\n",
    "data['original_title_length'] = data['original_title'].str.len()\n",
    "\n",
    "data_e = data.explode('production_companies')\n",
    "\n",
    "data_g = data_e.groupby(['production_companies'])['original_title_length'].mean().sort_values(ascending=False)\n",
    "\n",
    "answer = list(data_g.keys())[0]\n",
    "print(answer)\n",
    "answers['24'] = answer"
   ]
  },
  {
   "cell_type": "markdown",
   "metadata": {
    "colab_type": "text",
    "id": "9G0hbvR7VqAK"
   },
   "source": [
    "# 25. Описание фильмов какой студии в среднем самые длинные по количеству слов?"
   ]
  },
  {
   "cell_type": "code",
   "execution_count": 32,
   "metadata": {
    "colab": {},
    "colab_type": "code",
    "id": "Ge2GsLNxVqAK"
   },
   "outputs": [
    {
     "output_type": "stream",
     "name": "stdout",
     "text": [
      "Midnight Picture Show\n"
     ]
    }
   ],
   "source": [
    "data['overview_words'] = data['overview'].str.count(' ') + 1\n",
    "\n",
    "data_e = data.explode('production_companies')\n",
    "\n",
    "data_g = data_e.groupby(['production_companies'])['overview_words'].mean().sort_values(ascending=False)\n",
    "\n",
    "answer = list(data_g.keys())[0]\n",
    "print(answer)\n",
    "answers['25'] = answer"
   ]
  },
  {
   "cell_type": "markdown",
   "metadata": {
    "colab_type": "text",
    "id": "FJ1AFt90VqAP"
   },
   "source": [
    "# 26. Какие фильмы входят в 1 процент лучших по рейтингу? \n",
    "по vote_average"
   ]
  },
  {
   "cell_type": "code",
   "execution_count": 33,
   "metadata": {
    "colab": {},
    "colab_type": "code",
    "id": "8qmJVq4CVqAQ"
   },
   "outputs": [
    {
     "output_type": "stream",
     "name": "stdout",
     "text": [
      "['The Dark Knight' 'Interstellar' 'The Imitation Game' 'Inside Out' 'Room'\n 'The Wolf of Wall Street' 'Gone Girl' '12 Years a Slave'\n 'Guardians of the Galaxy' 'The Lord of the Rings: The Return of the King'\n 'Memento' 'Inception' 'The Pianist' 'The Grand Budapest Hotel' 'Her'\n 'Spotlight' 'Big Hero 6' 'The Fault in Our Stars']\n"
     ]
    }
   ],
   "source": [
    "# что значит no vote_average? по каким критериям ещё оценивать лучшие фильмы? 1% лучших это ведь 1% лучших от общего числа фильмов?\n",
    "\n",
    "d = data.sort_values(['vote_average'], ascending=False)\n",
    "\n",
    "answer = d.head(int(len(data.index)/100))['original_title'].values\n",
    "print(answer)\n",
    "answers['26'] = answer"
   ]
  },
  {
   "cell_type": "markdown",
   "metadata": {
    "colab_type": "text",
    "id": "MdXsUXbCVqAV"
   },
   "source": [
    "# 27. Какие актеры чаще всего снимаются в одном фильме вместе?\n"
   ]
  },
  {
   "cell_type": "code",
   "execution_count": 34,
   "metadata": {},
   "outputs": [
    {
     "output_type": "stream",
     "name": "stdout",
     "text": [
      "[(('Daniel Radcliffe', 'Emma Watson'), 8), (('Daniel Radcliffe', 'Rupert Grint'), 8), (('Emma Watson', 'Rupert Grint'), 8)]\n"
     ]
    }
   ],
   "source": [
    "data['cast'] = data['cast'].str.split('|')\n",
    "\n",
    "c = Counter()\n",
    "\n",
    "for row in data['cast']:\n",
    "    row.sort()\n",
    "    for combo in it.combinations(row, 2):\n",
    "        c[combo] += 1\n",
    "\n",
    "answer = c.most_common(3)\n",
    "print(answer)\n",
    "answers['27'] = answer"
   ]
  },
  {
   "cell_type": "markdown",
   "metadata": {
    "colab_type": "text",
    "id": "U0nONFnGVqAX"
   },
   "source": [
    "# Submission"
   ]
  },
  {
   "cell_type": "code",
   "execution_count": 35,
   "metadata": {
    "colab": {},
    "colab_type": "code",
    "id": "IfcaRO9-VqAX",
    "outputId": "0f132912-32bb-4196-c98c-abfbc4ad5a5f"
   },
   "outputs": [
    {
     "output_type": "execute_result",
     "data": {
      "text/plain": [
       "{'1': 'Pirates of the Caribbean: On Stranger Tides (tt1298650)',\n",
       " '2': 'Gods and Generals (tt0279111)',\n",
       " '3': 'Winnie the Pooh (tt1449283)',\n",
       " '4': 109.6585494970884,\n",
       " '5': 107.0,\n",
       " '6': 'Avatar (tt0499549)',\n",
       " '7': 'The Lone Ranger (tt1210819)',\n",
       " '8': 1478,\n",
       " '9': 'The Dark Knight (tt0468569)',\n",
       " '10': 'The Lone Ranger (tt1210819)',\n",
       " '11': 'Drama',\n",
       " '12': 'Drama',\n",
       " '13': 'Peter Jackson',\n",
       " '14': 'Robert Rodriguez',\n",
       " '15': 'Chris Hemsworth',\n",
       " '16': 'Matt Damon',\n",
       " '17': 'Action',\n",
       " '18': 'K-19: The Widowmaker (tt0267626)',\n",
       " '19': 2015,\n",
       " '20': 2014,\n",
       " '21': 'September',\n",
       " '22': 450,\n",
       " '23': 'Peter Jackson',\n",
       " '24': 'Four By Two Productions',\n",
       " '25': 'Midnight Picture Show',\n",
       " '26': array(['The Dark Knight', 'Interstellar', 'The Imitation Game',\n",
       "        'Inside Out', 'Room', 'The Wolf of Wall Street', 'Gone Girl',\n",
       "        '12 Years a Slave', 'Guardians of the Galaxy',\n",
       "        'The Lord of the Rings: The Return of the King', 'Memento',\n",
       "        'Inception', 'The Pianist', 'The Grand Budapest Hotel', 'Her',\n",
       "        'Spotlight', 'Big Hero 6', 'The Fault in Our Stars'], dtype=object),\n",
       " '27': [(('Daniel Radcliffe', 'Emma Watson'), 8),\n",
       "  (('Daniel Radcliffe', 'Rupert Grint'), 8),\n",
       "  (('Emma Watson', 'Rupert Grint'), 8)]}"
      ]
     },
     "metadata": {},
     "execution_count": 35
    }
   ],
   "source": [
    "# в конце можно посмотреть свои ответы к каждому вопросу\n",
    "answers"
   ]
  },
  {
   "cell_type": "code",
   "execution_count": 36,
   "metadata": {
    "colab": {},
    "colab_type": "code",
    "id": "SiRmHPl8VqAd"
   },
   "outputs": [
    {
     "output_type": "execute_result",
     "data": {
      "text/plain": [
       "27"
      ]
     },
     "metadata": {},
     "execution_count": 36
    }
   ],
   "source": [
    "# и убедиться что ни чего не пропустил)\n",
    "len(answers)"
   ]
  }
 ],
 "metadata": {
  "colab": {
   "name": "Copy of [SF-DST] Movies IMBD v4.1 TEMPLATE.ipynb",
   "provenance": []
  },
  "kernelspec": {
   "display_name": "Python 3",
   "language": "python",
   "name": "python3"
  },
  "language_info": {
   "codemirror_mode": {
    "name": "ipython",
    "version": 3
   },
   "file_extension": ".py",
   "mimetype": "text/x-python",
   "name": "python",
   "nbconvert_exporter": "python",
   "pygments_lexer": "ipython3",
   "version": "3.8.3-final"
  }
 },
 "nbformat": 4,
 "nbformat_minor": 1
}