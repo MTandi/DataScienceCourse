{
 "cells": [
  {
   "cell_type": "code",
   "execution_count": 235,
   "metadata": {
    "_cell_guid": "b1076dfc-b9ad-4769-8c92-a6c4dae69d19",
    "_uuid": "8f2839f25d086af736a60e9eeb907d3b93b6e0e5",
    "colab": {},
    "colab_type": "code",
    "id": "U2D2gTdJVp90"
   },
   "outputs": [],
   "source": [
    "import numpy as np\n",
    "import pandas as pd\n",
    "import seaborn as sns\n",
    "import matplotlib.pyplot as plt\n",
    "import calendar as cld\n",
    "from collections import Counter"
   ]
  },
  {
   "cell_type": "code",
   "execution_count": 94,
   "metadata": {
    "_cell_guid": "79c7e3d0-c299-4dcb-8224-4455121ee9b0",
    "_uuid": "d629ff2d2480ee46fbb7e2d37f6b5fab8052498a",
    "colab": {},
    "colab_type": "code",
    "id": "oyGfxL3eVp9-"
   },
   "outputs": [
    {
     "output_type": "execute_result",
     "data": {
      "text/plain": [
       "        imdb_id     budget   revenue               original_title  \\\n",
       "668   tt0811080  120000000  93945766                  Speed Racer   \n",
       "1773  tt0466839   24000000   9576495  I Could Never Be Your Woman   \n",
       "469   tt1273678   28000000  45236543            The Spy Next Door   \n",
       "1291  tt1171222    8500000  22456509                Baggage Claim   \n",
       "1643  tt0364045   45000000  65470529                 Taking Lives   \n",
       "\n",
       "                                                   cast  \\\n",
       "668   Emile Hirsch|Christina Ricci|Matthew Fox|Susan...   \n",
       "1773  Michelle Pfeiffer|Paul Rudd|Saoirse Ronan|Stac...   \n",
       "469   Amber Valletta|Lucas Till|Jackie Chan|Billy Ra...   \n",
       "1291  Paula Patton|Adam Brody|Djimon Hounsou|Taye Di...   \n",
       "1643  Angelina Jolie|Ethan Hawke|Kiefer Sutherland|G...   \n",
       "\n",
       "                            director                              tagline  \\\n",
       "668   Lana Wachowski|Lilly Wachowski                                  Go!   \n",
       "1773                  Amy Heckerling              Find Yourself. In Love.   \n",
       "469                     Brian Levant  Spying is easy, Babysitting is hard   \n",
       "1291                David E. Talbert              She's done flying solo.   \n",
       "1643                     D.J. Caruso             He would kill to be you.   \n",
       "\n",
       "                                               overview  runtime  \\\n",
       "668   Speed Racer is the tale of a young and brillia...      135   \n",
       "1773  This movie follows a mother who falls for a yo...       97   \n",
       "469   Former CIA spy Bob Ho takes on his toughest as...       94   \n",
       "1291  Pledging to keep herself from being the oldest...       96   \n",
       "1643  Recruited to assist Montreal police in their d...      103   \n",
       "\n",
       "                             genres  \\\n",
       "668   Family|Action|Science Fiction   \n",
       "1773           Comedy|Drama|Romance   \n",
       "469            Action|Comedy|Family   \n",
       "1291                         Comedy   \n",
       "1643  Action|Drama|Mystery|Thriller   \n",
       "\n",
       "                                   production_companies release_date  \\\n",
       "668   Village Roadshow Pictures|Studio Babelsberg|An...     5/9/2008   \n",
       "1773  Scott Rudin Productions|I Could Never Ltd.|Bau...    5/11/2007   \n",
       "469   Robert Simonds Productions|Relativity Media|Sp...    1/15/2010   \n",
       "1291                          Sneak Preview Productions    9/27/2013   \n",
       "1643  Village Roadshow Pictures|Atmosphere Entertain...    3/19/2004   \n",
       "\n",
       "      vote_average  release_year  \n",
       "668            5.6          2008  \n",
       "1773           5.3          2007  \n",
       "469            5.4          2010  \n",
       "1291           5.8          2013  \n",
       "1643           6.0          2004  "
      ],
      "text/html": "<div>\n<style scoped>\n    .dataframe tbody tr th:only-of-type {\n        vertical-align: middle;\n    }\n\n    .dataframe tbody tr th {\n        vertical-align: top;\n    }\n\n    .dataframe thead th {\n        text-align: right;\n    }\n</style>\n<table border=\"1\" class=\"dataframe\">\n  <thead>\n    <tr style=\"text-align: right;\">\n      <th></th>\n      <th>imdb_id</th>\n      <th>budget</th>\n      <th>revenue</th>\n      <th>original_title</th>\n      <th>cast</th>\n      <th>director</th>\n      <th>tagline</th>\n      <th>overview</th>\n      <th>runtime</th>\n      <th>genres</th>\n      <th>production_companies</th>\n      <th>release_date</th>\n      <th>vote_average</th>\n      <th>release_year</th>\n    </tr>\n  </thead>\n  <tbody>\n    <tr>\n      <th>668</th>\n      <td>tt0811080</td>\n      <td>120000000</td>\n      <td>93945766</td>\n      <td>Speed Racer</td>\n      <td>Emile Hirsch|Christina Ricci|Matthew Fox|Susan...</td>\n      <td>Lana Wachowski|Lilly Wachowski</td>\n      <td>Go!</td>\n      <td>Speed Racer is the tale of a young and brillia...</td>\n      <td>135</td>\n      <td>Family|Action|Science Fiction</td>\n      <td>Village Roadshow Pictures|Studio Babelsberg|An...</td>\n      <td>5/9/2008</td>\n      <td>5.6</td>\n      <td>2008</td>\n    </tr>\n    <tr>\n      <th>1773</th>\n      <td>tt0466839</td>\n      <td>24000000</td>\n      <td>9576495</td>\n      <td>I Could Never Be Your Woman</td>\n      <td>Michelle Pfeiffer|Paul Rudd|Saoirse Ronan|Stac...</td>\n      <td>Amy Heckerling</td>\n      <td>Find Yourself. In Love.</td>\n      <td>This movie follows a mother who falls for a yo...</td>\n      <td>97</td>\n      <td>Comedy|Drama|Romance</td>\n      <td>Scott Rudin Productions|I Could Never Ltd.|Bau...</td>\n      <td>5/11/2007</td>\n      <td>5.3</td>\n      <td>2007</td>\n    </tr>\n    <tr>\n      <th>469</th>\n      <td>tt1273678</td>\n      <td>28000000</td>\n      <td>45236543</td>\n      <td>The Spy Next Door</td>\n      <td>Amber Valletta|Lucas Till|Jackie Chan|Billy Ra...</td>\n      <td>Brian Levant</td>\n      <td>Spying is easy, Babysitting is hard</td>\n      <td>Former CIA spy Bob Ho takes on his toughest as...</td>\n      <td>94</td>\n      <td>Action|Comedy|Family</td>\n      <td>Robert Simonds Productions|Relativity Media|Sp...</td>\n      <td>1/15/2010</td>\n      <td>5.4</td>\n      <td>2010</td>\n    </tr>\n    <tr>\n      <th>1291</th>\n      <td>tt1171222</td>\n      <td>8500000</td>\n      <td>22456509</td>\n      <td>Baggage Claim</td>\n      <td>Paula Patton|Adam Brody|Djimon Hounsou|Taye Di...</td>\n      <td>David E. Talbert</td>\n      <td>She's done flying solo.</td>\n      <td>Pledging to keep herself from being the oldest...</td>\n      <td>96</td>\n      <td>Comedy</td>\n      <td>Sneak Preview Productions</td>\n      <td>9/27/2013</td>\n      <td>5.8</td>\n      <td>2013</td>\n    </tr>\n    <tr>\n      <th>1643</th>\n      <td>tt0364045</td>\n      <td>45000000</td>\n      <td>65470529</td>\n      <td>Taking Lives</td>\n      <td>Angelina Jolie|Ethan Hawke|Kiefer Sutherland|G...</td>\n      <td>D.J. Caruso</td>\n      <td>He would kill to be you.</td>\n      <td>Recruited to assist Montreal police in their d...</td>\n      <td>103</td>\n      <td>Action|Drama|Mystery|Thriller</td>\n      <td>Village Roadshow Pictures|Atmosphere Entertain...</td>\n      <td>3/19/2004</td>\n      <td>6.0</td>\n      <td>2004</td>\n    </tr>\n  </tbody>\n</table>\n</div>"
     },
     "metadata": {},
     "execution_count": 94
    }
   ],
   "source": [
    "data = pd.read_csv('movie_bd_v5.csv')\n",
    "data.sample(5)"
   ]
  },
  {
   "cell_type": "code",
   "execution_count": 58,
   "metadata": {
    "colab": {},
    "colab_type": "code",
    "id": "CoYUnagMVp-C"
   },
   "outputs": [
    {
     "output_type": "execute_result",
     "data": {
      "text/plain": [
       "             budget       revenue      runtime  vote_average  release_year  \\\n",
       "count  1.889000e+03  1.889000e+03  1889.000000   1889.000000   1889.000000   \n",
       "mean   5.431083e+07  1.553653e+08   109.658549      6.140762   2007.860773   \n",
       "std    4.858721e+07  2.146698e+08    18.017041      0.764763      4.468841   \n",
       "min    5.000000e+06  2.033165e+06    63.000000      3.300000   2000.000000   \n",
       "25%    2.000000e+07  3.456058e+07    97.000000      5.600000   2004.000000   \n",
       "50%    3.800000e+07  8.361541e+07   107.000000      6.100000   2008.000000   \n",
       "75%    7.200000e+07  1.782626e+08   120.000000      6.600000   2012.000000   \n",
       "max    3.800000e+08  2.781506e+09   214.000000      8.100000   2015.000000   \n",
       "\n",
       "             profit  \n",
       "count  1.889000e+03  \n",
       "mean   1.010545e+08  \n",
       "std    1.830733e+08  \n",
       "min   -1.657101e+08  \n",
       "25%    5.000000e+06  \n",
       "50%    4.400041e+07  \n",
       "75%    1.201842e+08  \n",
       "max    2.544506e+09  "
      ],
      "text/html": "<div>\n<style scoped>\n    .dataframe tbody tr th:only-of-type {\n        vertical-align: middle;\n    }\n\n    .dataframe tbody tr th {\n        vertical-align: top;\n    }\n\n    .dataframe thead th {\n        text-align: right;\n    }\n</style>\n<table border=\"1\" class=\"dataframe\">\n  <thead>\n    <tr style=\"text-align: right;\">\n      <th></th>\n      <th>budget</th>\n      <th>revenue</th>\n      <th>runtime</th>\n      <th>vote_average</th>\n      <th>release_year</th>\n      <th>profit</th>\n    </tr>\n  </thead>\n  <tbody>\n    <tr>\n      <th>count</th>\n      <td>1.889000e+03</td>\n      <td>1.889000e+03</td>\n      <td>1889.000000</td>\n      <td>1889.000000</td>\n      <td>1889.000000</td>\n      <td>1.889000e+03</td>\n    </tr>\n    <tr>\n      <th>mean</th>\n      <td>5.431083e+07</td>\n      <td>1.553653e+08</td>\n      <td>109.658549</td>\n      <td>6.140762</td>\n      <td>2007.860773</td>\n      <td>1.010545e+08</td>\n    </tr>\n    <tr>\n      <th>std</th>\n      <td>4.858721e+07</td>\n      <td>2.146698e+08</td>\n      <td>18.017041</td>\n      <td>0.764763</td>\n      <td>4.468841</td>\n      <td>1.830733e+08</td>\n    </tr>\n    <tr>\n      <th>min</th>\n      <td>5.000000e+06</td>\n      <td>2.033165e+06</td>\n      <td>63.000000</td>\n      <td>3.300000</td>\n      <td>2000.000000</td>\n      <td>-1.657101e+08</td>\n    </tr>\n    <tr>\n      <th>25%</th>\n      <td>2.000000e+07</td>\n      <td>3.456058e+07</td>\n      <td>97.000000</td>\n      <td>5.600000</td>\n      <td>2004.000000</td>\n      <td>5.000000e+06</td>\n    </tr>\n    <tr>\n      <th>50%</th>\n      <td>3.800000e+07</td>\n      <td>8.361541e+07</td>\n      <td>107.000000</td>\n      <td>6.100000</td>\n      <td>2008.000000</td>\n      <td>4.400041e+07</td>\n    </tr>\n    <tr>\n      <th>75%</th>\n      <td>7.200000e+07</td>\n      <td>1.782626e+08</td>\n      <td>120.000000</td>\n      <td>6.600000</td>\n      <td>2012.000000</td>\n      <td>1.201842e+08</td>\n    </tr>\n    <tr>\n      <th>max</th>\n      <td>3.800000e+08</td>\n      <td>2.781506e+09</td>\n      <td>214.000000</td>\n      <td>8.100000</td>\n      <td>2015.000000</td>\n      <td>2.544506e+09</td>\n    </tr>\n  </tbody>\n</table>\n</div>"
     },
     "metadata": {},
     "execution_count": 58
    }
   ],
   "source": [
    "data.describe()"
   ]
  },
  {
   "cell_type": "markdown",
   "metadata": {
    "colab_type": "text",
    "id": "DTIt7ezGVp-G"
   },
   "source": [
    "# Предобработка"
   ]
  },
  {
   "cell_type": "code",
   "execution_count": 377,
   "metadata": {
    "colab": {},
    "colab_type": "code",
    "id": "jNb40DwKVp-H"
   },
   "outputs": [
    {
     "output_type": "execute_result",
     "data": {
      "text/plain": [
       "     imdb_id     budget     revenue      original_title  \\\n",
       "0  tt0369610  150000000  1513528810      Jurassic World   \n",
       "1  tt1392190  150000000   378436354  Mad Max: Fury Road   \n",
       "2  tt2908446  110000000   295238201           Insurgent   \n",
       "\n",
       "                                                cast          director  \\\n",
       "0  Chris Pratt|Bryce Dallas Howard|Irrfan Khan|Vi...   Colin Trevorrow   \n",
       "1  Tom Hardy|Charlize Theron|Hugh Keays-Byrne|Nic...     George Miller   \n",
       "2  Shailene Woodley|Theo James|Kate Winslet|Ansel...  Robert Schwentke   \n",
       "\n",
       "                      tagline  \\\n",
       "0           The park is open.   \n",
       "1          What a Lovely Day.   \n",
       "2  One Choice Can Destroy You   \n",
       "\n",
       "                                            overview  runtime  \\\n",
       "0  Twenty-two years after the events of Jurassic ...      124   \n",
       "1  An apocalyptic story set in the furthest reach...      120   \n",
       "2  Beatrice Prior must confront her inner demons ...      119   \n",
       "\n",
       "                                      genres  \\\n",
       "0  Action|Adventure|Science Fiction|Thriller   \n",
       "1  Action|Adventure|Science Fiction|Thriller   \n",
       "2         Adventure|Science Fiction|Thriller   \n",
       "\n",
       "                                production_companies release_date  \\\n",
       "0  Universal Studios|Amblin Entertainment|Legenda...     6/9/2015   \n",
       "1  Village Roadshow Pictures|Kennedy Miller Produ...    5/13/2015   \n",
       "2  Summit Entertainment|Mandeville Films|Red Wago...    3/18/2015   \n",
       "\n",
       "   vote_average  release_year      profit  release_month  overview_words  \n",
       "0           6.5          2015  1363528810              6              26  \n",
       "1           7.1          2015   228436354              5             110  \n",
       "2           6.3          2015   185238201              3              22  "
      ],
      "text/html": "<div>\n<style scoped>\n    .dataframe tbody tr th:only-of-type {\n        vertical-align: middle;\n    }\n\n    .dataframe tbody tr th {\n        vertical-align: top;\n    }\n\n    .dataframe thead th {\n        text-align: right;\n    }\n</style>\n<table border=\"1\" class=\"dataframe\">\n  <thead>\n    <tr style=\"text-align: right;\">\n      <th></th>\n      <th>imdb_id</th>\n      <th>budget</th>\n      <th>revenue</th>\n      <th>original_title</th>\n      <th>cast</th>\n      <th>director</th>\n      <th>tagline</th>\n      <th>overview</th>\n      <th>runtime</th>\n      <th>genres</th>\n      <th>production_companies</th>\n      <th>release_date</th>\n      <th>vote_average</th>\n      <th>release_year</th>\n      <th>profit</th>\n      <th>release_month</th>\n      <th>overview_words</th>\n    </tr>\n  </thead>\n  <tbody>\n    <tr>\n      <th>0</th>\n      <td>tt0369610</td>\n      <td>150000000</td>\n      <td>1513528810</td>\n      <td>Jurassic World</td>\n      <td>Chris Pratt|Bryce Dallas Howard|Irrfan Khan|Vi...</td>\n      <td>Colin Trevorrow</td>\n      <td>The park is open.</td>\n      <td>Twenty-two years after the events of Jurassic ...</td>\n      <td>124</td>\n      <td>Action|Adventure|Science Fiction|Thriller</td>\n      <td>Universal Studios|Amblin Entertainment|Legenda...</td>\n      <td>6/9/2015</td>\n      <td>6.5</td>\n      <td>2015</td>\n      <td>1363528810</td>\n      <td>6</td>\n      <td>26</td>\n    </tr>\n    <tr>\n      <th>1</th>\n      <td>tt1392190</td>\n      <td>150000000</td>\n      <td>378436354</td>\n      <td>Mad Max: Fury Road</td>\n      <td>Tom Hardy|Charlize Theron|Hugh Keays-Byrne|Nic...</td>\n      <td>George Miller</td>\n      <td>What a Lovely Day.</td>\n      <td>An apocalyptic story set in the furthest reach...</td>\n      <td>120</td>\n      <td>Action|Adventure|Science Fiction|Thriller</td>\n      <td>Village Roadshow Pictures|Kennedy Miller Produ...</td>\n      <td>5/13/2015</td>\n      <td>7.1</td>\n      <td>2015</td>\n      <td>228436354</td>\n      <td>5</td>\n      <td>110</td>\n    </tr>\n    <tr>\n      <th>2</th>\n      <td>tt2908446</td>\n      <td>110000000</td>\n      <td>295238201</td>\n      <td>Insurgent</td>\n      <td>Shailene Woodley|Theo James|Kate Winslet|Ansel...</td>\n      <td>Robert Schwentke</td>\n      <td>One Choice Can Destroy You</td>\n      <td>Beatrice Prior must confront her inner demons ...</td>\n      <td>119</td>\n      <td>Adventure|Science Fiction|Thriller</td>\n      <td>Summit Entertainment|Mandeville Films|Red Wago...</td>\n      <td>3/18/2015</td>\n      <td>6.3</td>\n      <td>2015</td>\n      <td>185238201</td>\n      <td>3</td>\n      <td>22</td>\n    </tr>\n  </tbody>\n</table>\n</div>"
     },
     "metadata": {},
     "execution_count": 377
    }
   ],
   "source": [
    "answers = {} # создадим словарь для ответов\n",
    "\n",
    "# тут другие ваши предобработки колонок например:\n",
    "\n",
    "#the time given in the dataset is in string format.\n",
    "#So we need to change this in datetime format\n",
    "# ...\n",
    "\n",
    "# прибыль\n",
    "data['profit'] = data['revenue'] - data['budget']\n",
    "\n",
    "# месяц выхода\n",
    "data['release_month'] = pd.DatetimeIndex(data['release_date']).month\n",
    "\n",
    "# проверка\n",
    "data.head(3)"
   ]
  },
  {
   "cell_type": "code",
   "execution_count": 104,
   "metadata": {},
   "outputs": [],
   "source": [
    "# функция для форматирования ответов\n",
    "def nice(var):\n",
    "    return(var['original_title'] + ' (' + var['imdb_id'] + ')')"
   ]
  },
  {
   "cell_type": "markdown",
   "metadata": {
    "colab_type": "text",
    "id": "YxZaH-nPVp-L"
   },
   "source": [
    "# 1. У какого фильма из списка самый большой бюджет?"
   ]
  },
  {
   "cell_type": "markdown",
   "metadata": {
    "colab_type": "text",
    "id": "Nd-G5gX6Vp-M"
   },
   "source": [
    "Использовать варианты ответов в коде решения запрещено.    \n",
    "Вы думаете и в жизни у вас будут варианты ответов?)"
   ]
  },
  {
   "cell_type": "code",
   "execution_count": 105,
   "metadata": {
    "colab": {},
    "colab_type": "code",
    "id": "dZwb3m28Vp-S"
   },
   "outputs": [
    {
     "output_type": "stream",
     "name": "stdout",
     "text": [
      "Pirates of the Caribbean: On Stranger Tides (tt1298650)\n"
     ]
    }
   ],
   "source": [
    "# тут пишем ваш код для решения данного вопроса:\n",
    "answer = nice(data.iloc[data['budget'].argmax()])\n",
    "print(answer)\n",
    "answers['1'] = answer"
   ]
  },
  {
   "cell_type": "markdown",
   "metadata": {
    "colab_type": "text",
    "id": "FNRbbI3vVp-c"
   },
   "source": [
    "# 2. Какой из фильмов самый длительный (в минутах)?"
   ]
  },
  {
   "cell_type": "code",
   "execution_count": 106,
   "metadata": {
    "colab": {},
    "colab_type": "code",
    "id": "ot-VX2XrVp-g"
   },
   "outputs": [
    {
     "output_type": "stream",
     "name": "stdout",
     "text": [
      "Gods and Generals (tt0279111)\n"
     ]
    }
   ],
   "source": [
    "answer = nice(data.iloc[data['runtime'].argmax()])\n",
    "print(answer)\n",
    "answers['2'] = answer"
   ]
  },
  {
   "cell_type": "markdown",
   "metadata": {
    "colab_type": "text",
    "id": "bapLlpW8Vp-k"
   },
   "source": [
    "# 3. Какой из фильмов самый короткий (в минутах)?\n",
    "\n",
    "\n",
    "\n"
   ]
  },
  {
   "cell_type": "code",
   "execution_count": 107,
   "metadata": {
    "colab": {},
    "colab_type": "code",
    "id": "YBxaSHuAVp-l"
   },
   "outputs": [
    {
     "output_type": "stream",
     "name": "stdout",
     "text": [
      "Winnie the Pooh (tt1449283)\n"
     ]
    }
   ],
   "source": [
    "answer = nice(data.iloc[data['runtime'].argmin()])\n",
    "print(answer)\n",
    "answers['3'] = answer\n"
   ]
  },
  {
   "cell_type": "markdown",
   "metadata": {
    "colab_type": "text",
    "id": "TfQbxbfNVp-p"
   },
   "source": [
    "# 4. Какова средняя длительность фильмов?\n"
   ]
  },
  {
   "cell_type": "code",
   "execution_count": 108,
   "metadata": {
    "colab": {},
    "colab_type": "code",
    "id": "5K6dKZYVVp-q"
   },
   "outputs": [
    {
     "output_type": "stream",
     "name": "stdout",
     "text": [
      "109.6585494970884\n"
     ]
    }
   ],
   "source": [
    "answer = data['runtime'].mean()\n",
    "print(answer)\n",
    "answers['4'] = answer"
   ]
  },
  {
   "cell_type": "markdown",
   "metadata": {
    "colab_type": "text",
    "id": "r5TvbnT_Vp-u"
   },
   "source": [
    "# 5. Каково медианное значение длительности фильмов? "
   ]
  },
  {
   "cell_type": "code",
   "execution_count": 109,
   "metadata": {
    "colab": {},
    "colab_type": "code",
    "id": "iBROplKnVp-v"
   },
   "outputs": [
    {
     "output_type": "stream",
     "name": "stdout",
     "text": [
      "107.0\n"
     ]
    }
   ],
   "source": [
    "answer = data['runtime'].median()\n",
    "print(answer)\n",
    "answers['5'] = answer"
   ]
  },
  {
   "cell_type": "markdown",
   "metadata": {
    "colab_type": "text",
    "id": "39P-deDSVp-y"
   },
   "source": [
    "# 6. Какой самый прибыльный фильм?\n",
    "#### Внимание! Здесь и далее под «прибылью» или «убытками» понимается разность между сборами и бюджетом фильма. (прибыль = сборы - бюджет) в нашем датасете это будет (profit = revenue - budget) "
   ]
  },
  {
   "cell_type": "code",
   "execution_count": 110,
   "metadata": {
    "colab": {},
    "colab_type": "code",
    "id": "UYZh4T9WVp-y"
   },
   "outputs": [
    {
     "output_type": "stream",
     "name": "stdout",
     "text": [
      "Avatar (tt0499549)\n"
     ]
    }
   ],
   "source": [
    "answer = nice(data.iloc[data['profit'].argmax()])\n",
    "print(answer)\n",
    "answers['6'] = answer"
   ]
  },
  {
   "cell_type": "markdown",
   "metadata": {
    "colab_type": "text",
    "id": "M99JmIX4Vp-2"
   },
   "source": [
    "# 7. Какой фильм самый убыточный? "
   ]
  },
  {
   "cell_type": "code",
   "execution_count": 111,
   "metadata": {
    "colab": {},
    "colab_type": "code",
    "id": "w-D2m4XPVp-3"
   },
   "outputs": [
    {
     "output_type": "stream",
     "name": "stdout",
     "text": [
      "The Lone Ranger (tt1210819)\n"
     ]
    }
   ],
   "source": [
    "answer = nice(data.iloc[data['profit'].argmin()])\n",
    "print(answer)\n",
    "answers['7'] = answer"
   ]
  },
  {
   "cell_type": "markdown",
   "metadata": {
    "colab_type": "text",
    "id": "wEOM5ERVVp-6"
   },
   "source": [
    "# 8. У скольких фильмов из датасета объем сборов оказался выше бюджета?"
   ]
  },
  {
   "cell_type": "code",
   "execution_count": 115,
   "metadata": {
    "colab": {},
    "colab_type": "code",
    "id": "y00_7HD6Vp-7"
   },
   "outputs": [
    {
     "output_type": "stream",
     "name": "stdout",
     "text": [
      "1478\n"
     ]
    }
   ],
   "source": [
    "answer = len(data[data.profit > 0])\n",
    "print(answer)\n",
    "answers['8'] = answer"
   ]
  },
  {
   "cell_type": "markdown",
   "metadata": {
    "colab_type": "text",
    "id": "xhpspA9KVp_A"
   },
   "source": [
    "# 9. Какой фильм оказался самым кассовым в 2008 году?"
   ]
  },
  {
   "cell_type": "code",
   "execution_count": 120,
   "metadata": {
    "colab": {},
    "colab_type": "code",
    "id": "MoUyQr9RVp_B"
   },
   "outputs": [
    {
     "output_type": "stream",
     "name": "stdout",
     "text": [
      "The Dark Knight (tt0468569)\n"
     ]
    }
   ],
   "source": [
    "fdata = data[data.release_year == 2008]\n",
    "answer = nice(fdata.iloc[fdata['revenue'].argmax()])\n",
    "print(answer)\n",
    "answers['9'] = answer"
   ]
  },
  {
   "cell_type": "markdown",
   "metadata": {
    "colab_type": "text",
    "id": "Zi4hDKidVp_F"
   },
   "source": [
    "# 10. Самый убыточный фильм за период с 2012 по 2014 г. (включительно)?\n"
   ]
  },
  {
   "cell_type": "code",
   "execution_count": 122,
   "metadata": {
    "colab": {},
    "colab_type": "code",
    "id": "XqyRmufJVp_F"
   },
   "outputs": [
    {
     "output_type": "stream",
     "name": "stdout",
     "text": [
      "The Lone Ranger (tt1210819)\n"
     ]
    }
   ],
   "source": [
    "fdata = data[(data.release_year > 2011) & (data.release_year < 2015)]\n",
    "answer = nice(fdata.iloc[fdata['profit'].argmin()])\n",
    "print(answer)\n",
    "answers['10'] = answer"
   ]
  },
  {
   "cell_type": "markdown",
   "metadata": {
    "colab_type": "text",
    "id": "EA7Sa9dkVp_I"
   },
   "source": [
    "# 11. Какого жанра фильмов больше всего?"
   ]
  },
  {
   "cell_type": "code",
   "execution_count": 174,
   "metadata": {
    "colab": {},
    "colab_type": "code",
    "id": "zsJAwJ8QVp_J"
   },
   "outputs": [
    {
     "output_type": "stream",
     "name": "stdout",
     "text": [
      "Drama\n"
     ]
    }
   ],
   "source": [
    "c = Counter()\n",
    "for string in data['genres']:\n",
    "    for genre in string.split('|'):\n",
    "        c[genre] += 1\n",
    "\n",
    "answer = c.most_common(1)[0][0]\n",
    "print(answer)\n",
    "answers['11'] = answer"
   ]
  },
  {
   "cell_type": "markdown",
   "metadata": {
    "colab_type": "text",
    "id": "T9_bPWpkVp_Q"
   },
   "source": [
    "# 12. Фильмы какого жанра чаще всего становятся прибыльными? "
   ]
  },
  {
   "cell_type": "code",
   "execution_count": 187,
   "metadata": {
    "colab": {},
    "colab_type": "code",
    "id": "Tmt8MaK1Vp_R"
   },
   "outputs": [
    {
     "output_type": "stream",
     "name": "stdout",
     "text": [
      "Drama\n"
     ]
    }
   ],
   "source": [
    "# В процентном или количественном соотношении?\n",
    "# В количественном:\n",
    "\n",
    "c = Counter()\n",
    "fdata = data[data.profit > 0]\n",
    "for string in fdata['genres']:\n",
    "    for genre in string.split('|'):\n",
    "        c[genre] += 1\n",
    "\n",
    "answer = c.most_common(1)[0][0]\n",
    "print(answer)\n",
    "answers['12'] = answer"
   ]
  },
  {
   "cell_type": "markdown",
   "metadata": {
    "colab_type": "text",
    "id": "0F23bgsDVp_U"
   },
   "source": [
    "# 13. У какого режиссера самые большие суммарные кассовые сборы?"
   ]
  },
  {
   "cell_type": "code",
   "execution_count": 189,
   "metadata": {
    "colab": {},
    "colab_type": "code",
    "id": "K6Z3J8ygVp_X",
    "tags": []
   },
   "outputs": [
    {
     "output_type": "stream",
     "name": "stdout",
     "text": [
      "Peter Jackson\n"
     ]
    }
   ],
   "source": [
    "c = Counter()\n",
    "for index, row in data.iterrows():\n",
    "    for director in row['director'].split('|'):\n",
    "        c[director] += row['revenue']\n",
    "\n",
    "answer = c.most_common(1)[0][0]\n",
    "print(answer)\n",
    "answers['13'] = answer"
   ]
  },
  {
   "cell_type": "markdown",
   "metadata": {
    "colab_type": "text",
    "id": "PsYC9FgRVp_a"
   },
   "source": [
    "# 14. Какой режисер снял больше всего фильмов в стиле Action?"
   ]
  },
  {
   "cell_type": "code",
   "execution_count": 190,
   "metadata": {
    "colab": {},
    "colab_type": "code",
    "id": "wd2M-wHeVp_b"
   },
   "outputs": [
    {
     "output_type": "stream",
     "name": "stdout",
     "text": [
      "Robert Rodriguez\n"
     ]
    }
   ],
   "source": [
    "c = Counter()\n",
    "for index, row in data.iterrows():\n",
    "    for director in row['director'].split('|'):\n",
    "        if 'Action' in row['genres'].split('|'):\n",
    "            c[director] += 1\n",
    "\n",
    "answer = c.most_common(1)[0][0]\n",
    "print(answer)\n",
    "answers['14'] = answer"
   ]
  },
  {
   "cell_type": "markdown",
   "metadata": {
    "colab_type": "text",
    "id": "PQ0KciD7Vp_f"
   },
   "source": [
    "# 15. Фильмы с каким актером принесли самые высокие кассовые сборы в 2012 году? "
   ]
  },
  {
   "cell_type": "code",
   "execution_count": 191,
   "metadata": {
    "colab": {},
    "colab_type": "code",
    "id": "aga62oeKVp_g"
   },
   "outputs": [
    {
     "output_type": "stream",
     "name": "stdout",
     "text": [
      "Chris Hemsworth\n"
     ]
    }
   ],
   "source": [
    "c = Counter()\n",
    "fdata = data[data.release_year == 2012]\n",
    "for index, row in fdata.iterrows():\n",
    "    for actor in row['cast'].split('|'):\n",
    "        c[actor] += row['revenue']\n",
    "\n",
    "answer = c.most_common(1)[0][0]\n",
    "print(answer)\n",
    "answers['15'] = answer"
   ]
  },
  {
   "cell_type": "markdown",
   "metadata": {
    "colab_type": "text",
    "id": "mWHyyL7QVp_j"
   },
   "source": [
    "# 16. Какой актер снялся в большем количестве высокобюджетных фильмов?"
   ]
  },
  {
   "cell_type": "code",
   "execution_count": 192,
   "metadata": {
    "colab": {},
    "colab_type": "code",
    "id": "qQtmHKTFVp_k"
   },
   "outputs": [
    {
     "output_type": "stream",
     "name": "stdout",
     "text": [
      "Matt Damon\n"
     ]
    }
   ],
   "source": [
    "c = Counter()\n",
    "fdata = data[data.budget > data.budget.mean()]\n",
    "for index, row in fdata.iterrows():\n",
    "    for actor in row['cast'].split('|'):\n",
    "        c[actor] += 1\n",
    "\n",
    "answer = c.most_common(1)[0][0]\n",
    "print(answer)\n",
    "answers['16'] = answer"
   ]
  },
  {
   "cell_type": "markdown",
   "metadata": {
    "colab_type": "text",
    "id": "NIh6AaW5Vp_n"
   },
   "source": [
    "# 17. В фильмах какого жанра больше всего снимался Nicolas Cage? "
   ]
  },
  {
   "cell_type": "code",
   "execution_count": 193,
   "metadata": {
    "colab": {},
    "colab_type": "code",
    "id": "H74SJDIBVp_n"
   },
   "outputs": [
    {
     "output_type": "stream",
     "name": "stdout",
     "text": [
      "Action\n"
     ]
    }
   ],
   "source": [
    "c = Counter()\n",
    "for index, row in data.iterrows():\n",
    "    for genre in row['genres'].split('|'):\n",
    "        if 'Nicolas Cage' in row['cast'].split('|'):\n",
    "            c[genre] += 1\n",
    "\n",
    "answer = c.most_common(1)[0][0]\n",
    "print(answer)\n",
    "answers['17'] = answer"
   ]
  },
  {
   "cell_type": "markdown",
   "metadata": {
    "colab_type": "text",
    "id": "RqOmPRfWVp_q"
   },
   "source": [
    "# 18. Самый убыточный фильм от Paramount Pictures"
   ]
  },
  {
   "cell_type": "code",
   "execution_count": 198,
   "metadata": {
    "colab": {},
    "colab_type": "code",
    "id": "9E_B0Y96Vp_r"
   },
   "outputs": [
    {
     "output_type": "stream",
     "name": "stdout",
     "text": [
      "K-19: The Widowmaker (tt0267626)\n"
     ]
    }
   ],
   "source": [
    "fdata = data[data['production_companies'].str.contains('Paramount Pictures')]\n",
    "answer = nice(fdata.iloc[fdata['profit'].argmin()])\n",
    "print(answer)\n",
    "answers['18'] = answer"
   ]
  },
  {
   "cell_type": "markdown",
   "metadata": {
    "colab_type": "text",
    "id": "vS8Ur6ddVp_u"
   },
   "source": [
    "# 19. Какой год стал самым успешным по суммарным кассовым сборам?"
   ]
  },
  {
   "cell_type": "code",
   "execution_count": 270,
   "metadata": {
    "colab": {},
    "colab_type": "code",
    "id": "Dnbt4GdIVp_v"
   },
   "outputs": [
    {
     "output_type": "stream",
     "name": "stdout",
     "text": [
      "2015\n"
     ]
    }
   ],
   "source": [
    "groups = data.groupby(['release_year'])['revenue'].sum().sort_values(ascending=False)\n",
    "answer = list(groups.keys())[0]\n",
    "print(answer)\n",
    "answers['19'] = answer"
   ]
  },
  {
   "cell_type": "markdown",
   "metadata": {
    "colab_type": "text",
    "id": "JAzJh4QAVp_z"
   },
   "source": [
    "# 20. Какой самый прибыльный год для студии Warner Bros?"
   ]
  },
  {
   "cell_type": "code",
   "execution_count": 272,
   "metadata": {
    "colab": {},
    "colab_type": "code",
    "id": "wgVu02DEVp_0"
   },
   "outputs": [
    {
     "output_type": "stream",
     "name": "stdout",
     "text": [
      "2014\n"
     ]
    }
   ],
   "source": [
    "fdata = data[data['production_companies'].str.contains('Warner Bros')]\n",
    "groups = fdata.groupby(['release_year'])['profit'].sum().sort_values(ascending=False)\n",
    "answer = list(groups.keys())[0]\n",
    "print(answer)\n",
    "answers['20'] = answer"
   ]
  },
  {
   "cell_type": "markdown",
   "metadata": {
    "colab_type": "text",
    "id": "8Im1S2HRVp_4"
   },
   "source": [
    "# 21. В каком месяце за все годы суммарно вышло больше всего фильмов?"
   ]
  },
  {
   "cell_type": "code",
   "execution_count": 330,
   "metadata": {},
   "outputs": [
    {
     "output_type": "stream",
     "name": "stdout",
     "text": [
      "September\n"
     ]
    }
   ],
   "source": [
    "groups = data.groupby(['release_month']).size().sort_values(ascending=False)\n",
    "answer = cld.month_name[next(iter(groups.keys()))]\n",
    "print(answer)\n",
    "answers['21'] = answer"
   ]
  },
  {
   "cell_type": "markdown",
   "metadata": {
    "colab_type": "text",
    "id": "uAJsZ_NeVp_7"
   },
   "source": [
    "# 22. Сколько суммарно вышло фильмов летом? (за июнь, июль, август)"
   ]
  },
  {
   "cell_type": "code",
   "execution_count": 329,
   "metadata": {
    "colab": {},
    "colab_type": "code",
    "id": "Aa-hEREoVp_8"
   },
   "outputs": [
    {
     "output_type": "stream",
     "name": "stdout",
     "text": [
      "450\n"
     ]
    }
   ],
   "source": [
    "groups = data.groupby(['release_month']).size()\n",
    "answer = groups[6] + groups[7] + groups[8]\n",
    "print(answer)\n",
    "answers['22'] = answer"
   ]
  },
  {
   "cell_type": "markdown",
   "metadata": {
    "colab_type": "text",
    "id": "G94ppOY1VqAA"
   },
   "source": [
    "# 23. Для какого режиссера зима – самое продуктивное время года? "
   ]
  },
  {
   "cell_type": "code",
   "execution_count": 332,
   "metadata": {
    "colab": {},
    "colab_type": "code",
    "id": "RhNTsamuVqAB"
   },
   "outputs": [
    {
     "output_type": "stream",
     "name": "stdout",
     "text": [
      "Peter Jackson\n"
     ]
    }
   ],
   "source": [
    "c = Counter()\n",
    "for index, row in data.iterrows():\n",
    "    for director in row['director'].split('|'):\n",
    "        if row['release_month'] in [1, 2, 12]:\n",
    "            c[director] += 1\n",
    "\n",
    "answer = c.most_common(1)[0][0]\n",
    "print(answer)\n",
    "answers['23'] = answer"
   ]
  },
  {
   "cell_type": "markdown",
   "metadata": {
    "colab_type": "text",
    "id": "RBo0JVjVVqAF"
   },
   "source": [
    "# 24. Какая студия дает самые длинные названия своим фильмам по количеству символов?"
   ]
  },
  {
   "cell_type": "code",
   "execution_count": 358,
   "metadata": {
    "colab": {},
    "colab_type": "code",
    "id": "QRGS8L0iVqAG",
    "tags": []
   },
   "outputs": [
    {
     "output_type": "stream",
     "name": "stdout",
     "text": [
      "Universal Pictures\n"
     ]
    }
   ],
   "source": [
    "# У какой студии больше всего букв в названиях фильмов суммарно? Или у какой студии самое длинное название фильма? Или больше всего фильмов с длиной названия выше среднего?\n",
    "# Больше всего фильмов с длиной названия выше среднего:\n",
    "mean_length = data['original_title'].str.len().mean()\n",
    "c = Counter()\n",
    "for index, row in data.iterrows():\n",
    "    for company in row['production_companies'].split('|'):\n",
    "        c[company] += int(len(row['original_title']) > mean_length)\n",
    "\n",
    "answer = c.most_common(1)[0][0]\n",
    "print(answer)\n",
    "answers['24'] = answer"
   ]
  },
  {
   "cell_type": "markdown",
   "metadata": {
    "colab_type": "text",
    "id": "9G0hbvR7VqAK"
   },
   "source": [
    "# 25. Описание фильмов какой студии в среднем самые длинные по количеству слов?"
   ]
  },
  {
   "cell_type": "code",
   "execution_count": 381,
   "metadata": {
    "colab": {},
    "colab_type": "code",
    "id": "Ge2GsLNxVqAK"
   },
   "outputs": [
    {
     "output_type": "stream",
     "name": "stdout",
     "text": [
      "\n"
     ]
    }
   ],
   "source": []
  },
  {
   "cell_type": "markdown",
   "metadata": {
    "colab_type": "text",
    "id": "FJ1AFt90VqAP"
   },
   "source": [
    "# 26. Какие фильмы входят в 1 процент лучших по рейтингу? \n",
    "по vote_average"
   ]
  },
  {
   "cell_type": "code",
   "execution_count": 0,
   "metadata": {
    "colab": {},
    "colab_type": "code",
    "id": "8qmJVq4CVqAQ"
   },
   "outputs": [],
   "source": [
    "import time\n",
    "t_begin = time.time()\n",
    "data = pd.read_csv('movie_bd_v5.csv')\n",
    "df = pd.DataFrame(columns=data.columns)\n",
    "for index in data.index:\n",
    "    overview_len = len(data.loc[index]['overview'].split(' '))\n",
    "    for name in data.loc[index]['production_companies'].split('|'):\n",
    "        df = pd.concat([df, pd.DataFrame(data.loc[index]).T], ignore_index=True)\n",
    "        df.iat[df.shape[0]-1, 10] = name # ячейка в столбце production_companies\n",
    "        df.iat[df.shape[0]-1, 7] = overview_len  # ячейка в столбце overview\n",
    "df = df.convert_dtypes()\n",
    "display(df.groupby(['production_companies'])['overview'].mean().sort_values(ascending=False))\n",
    "print('Время работы: ', time.time()-t_begin, 'с') "
   ]
  },
  {
   "cell_type": "markdown",
   "metadata": {
    "colab_type": "text",
    "id": "MdXsUXbCVqAV"
   },
   "source": [
    "# 27. Какие актеры чаще всего снимаются в одном фильме вместе?\n"
   ]
  },
  {
   "cell_type": "code",
   "execution_count": null,
   "metadata": {},
   "outputs": [],
   "source": []
  },
  {
   "cell_type": "markdown",
   "metadata": {
    "colab_type": "text",
    "id": "U0nONFnGVqAX"
   },
   "source": [
    "# Submission"
   ]
  },
  {
   "cell_type": "code",
   "execution_count": 343,
   "metadata": {
    "colab": {},
    "colab_type": "code",
    "id": "IfcaRO9-VqAX",
    "outputId": "0f132912-32bb-4196-c98c-abfbc4ad5a5f"
   },
   "outputs": [
    {
     "output_type": "execute_result",
     "data": {
      "text/plain": [
       "{'21': 'September', '22': 450, '23': 'Peter Jackson', '24': 'Warner Bros.'}"
      ]
     },
     "metadata": {},
     "execution_count": 343
    }
   ],
   "source": [
    "# в конце можно посмотреть свои ответы к каждому вопросу\n",
    "answers"
   ]
  },
  {
   "cell_type": "code",
   "execution_count": 0,
   "metadata": {
    "colab": {},
    "colab_type": "code",
    "id": "SiRmHPl8VqAd"
   },
   "outputs": [],
   "source": [
    "# и убедиться что ни чего не пропустил)\n",
    "len(answers)"
   ]
  }
 ],
 "metadata": {
  "colab": {
   "name": "Copy of [SF-DST] Movies IMBD v4.1 TEMPLATE.ipynb",
   "provenance": []
  },
  "kernelspec": {
   "display_name": "Python 3",
   "language": "python",
   "name": "python3"
  },
  "language_info": {
   "codemirror_mode": {
    "name": "ipython",
    "version": 3
   },
   "file_extension": ".py",
   "mimetype": "text/x-python",
   "name": "python",
   "nbconvert_exporter": "python",
   "pygments_lexer": "ipython3",
   "version": "3.8.3-final"
  }
 },
 "nbformat": 4,
 "nbformat_minor": 1
}