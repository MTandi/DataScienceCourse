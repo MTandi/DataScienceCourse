{
 "cells": [
  {
   "cell_type": "code",
   "execution_count": 31,
   "metadata": {
    "tags": []
   },
   "outputs": [
    {
     "output_type": "stream",
     "name": "stdout",
     "text": "М: 482, Ж: 518, BP: 118, LVLS: 6, LUNCH: 64.5, ETH: 319, ETH_TOTAL: 5\nREADING AVG: 69.169, READING LOW STUDENTS: 487\n"
    }
   ],
   "source": [
    "f = open('StudentsPerformance.xls')\n",
    "males = 0\n",
    "females = 0\n",
    "import collections\n",
    "parent_level = collections.Counter()\n",
    "lunch = collections.Counter()\n",
    "ethnic = collections.Counter()\n",
    "reading_scores = []\n",
    "writing_scores = []\n",
    "genders = []\n",
    "for line in f:\n",
    "    data = line.split(',')\n",
    "    if data[0][1:-1] == 'gender':\n",
    "        continue\n",
    "    gender = data[0][1:-1]\n",
    "    if gender == 'female':\n",
    "        females += 1\n",
    "    elif gender == 'male':\n",
    "        males += 1\n",
    "    p_degree = data[2][1:-1]\n",
    "    parent_level[p_degree] += 1\n",
    "    lunch_data = data[3][1:-1]\n",
    "    lunch[lunch_data] += 1\n",
    "    ethnic_data = data[1][1:-1]\n",
    "    ethnic[ethnic_data] += 1\n",
    "    reading_scores.append(int(data[6][1:-1]))\n",
    "    writing_scores.append(int(data[7][1:-3]))\n",
    "    genders.append(data[0][1:-1])\n",
    "\n",
    "print('М: {}, Ж: {}, BP: {}, LVLS: {}, LUNCH: {}, ETH: {}, ETH_TOTAL: {}'.format(males, females, parent_level['bachelor\\'s degree'], len(parent_level), lunch['standard']/10, ethnic['group C'], len(ethnic)))\n",
    "\n",
    "reading_avg = sum(reading_scores)/len(reading_scores)\n",
    "reading_below_avg_count = 0\n",
    "for mark in reading_scores:\n",
    "    if mark < reading_avg: reading_below_avg_count += 1\n",
    "\n",
    "reading_score_girls_total = 0\n",
    "i = 0\n",
    "for mark in reading_scores:\n",
    "    if genders[i] == 'female': reading_score_girls_total += mark\n",
    "    i += 1\n",
    "\n",
    "print('READING AVG: {}, READING LOW STUDENTS: {}'.format(reading_avg, reading_below_avg_count))\n",
    "\n",
    "f.close()"
   ]
  }
 ],
 "metadata": {
  "kernelspec": {
   "display_name": "Python 3",
   "language": "python",
   "name": "python3"
  },
  "language_info": {
   "codemirror_mode": {
    "name": "ipython",
    "version": 3
   },
   "file_extension": ".py",
   "mimetype": "text/x-python",
   "name": "python",
   "nbconvert_exporter": "python",
   "pygments_lexer": "ipython3",
   "version": "3.8.3-final"
  }
 },
 "nbformat": 4,
 "nbformat_minor": 4
}